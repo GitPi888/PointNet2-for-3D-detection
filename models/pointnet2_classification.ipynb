{
 "cells": [
  {
   "cell_type": "code",
   "execution_count": 1,
   "id": "44a6be97",
   "metadata": {},
   "outputs": [
    {
     "name": "stderr",
     "output_type": "stream",
     "text": [
      "\n",
      "A module that was compiled using NumPy 1.x cannot be run in\n",
      "NumPy 2.2.6 as it may crash. To support both 1.x and 2.x\n",
      "versions of NumPy, modules must be compiled with NumPy 2.0.\n",
      "Some module may need to rebuild instead e.g. with 'pybind11>=2.12'.\n",
      "\n",
      "If you are a user of the module, the easiest solution will be to\n",
      "downgrade to 'numpy<2' or try to upgrade the affected module.\n",
      "We expect that some modules will need time to support NumPy 2.\n",
      "\n",
      "Traceback (most recent call last):  File \"/usr/lib/python3.10/runpy.py\", line 196, in _run_module_as_main\n",
      "    return _run_code(code, main_globals, None,\n",
      "  File \"/usr/lib/python3.10/runpy.py\", line 86, in _run_code\n",
      "    exec(code, run_globals)\n",
      "  File \"/root/.venv/lib/python3.10/site-packages/ipykernel_launcher.py\", line 18, in <module>\n",
      "    app.launch_new_instance()\n",
      "  File \"/root/.venv/lib/python3.10/site-packages/traitlets/config/application.py\", line 1075, in launch_instance\n",
      "    app.start()\n",
      "  File \"/root/.venv/lib/python3.10/site-packages/ipykernel/kernelapp.py\", line 739, in start\n",
      "    self.io_loop.start()\n",
      "  File \"/root/.venv/lib/python3.10/site-packages/tornado/platform/asyncio.py\", line 211, in start\n",
      "    self.asyncio_loop.run_forever()\n",
      "  File \"/usr/lib/python3.10/asyncio/base_events.py\", line 603, in run_forever\n",
      "    self._run_once()\n",
      "  File \"/usr/lib/python3.10/asyncio/base_events.py\", line 1909, in _run_once\n",
      "    handle._run()\n",
      "  File \"/usr/lib/python3.10/asyncio/events.py\", line 80, in _run\n",
      "    self._context.run(self._callback, *self._args)\n",
      "  File \"/root/.venv/lib/python3.10/site-packages/ipykernel/kernelbase.py\", line 516, in dispatch_queue\n",
      "    await self.process_one()\n",
      "  File \"/root/.venv/lib/python3.10/site-packages/ipykernel/kernelbase.py\", line 505, in process_one\n",
      "    await dispatch(*args)\n",
      "  File \"/root/.venv/lib/python3.10/site-packages/ipykernel/kernelbase.py\", line 397, in dispatch_shell\n",
      "    await result\n",
      "  File \"/root/.venv/lib/python3.10/site-packages/ipykernel/ipkernel.py\", line 368, in execute_request\n",
      "    await super().execute_request(stream, ident, parent)\n",
      "  File \"/root/.venv/lib/python3.10/site-packages/ipykernel/kernelbase.py\", line 752, in execute_request\n",
      "    reply_content = await reply_content\n",
      "  File \"/root/.venv/lib/python3.10/site-packages/ipykernel/ipkernel.py\", line 455, in do_execute\n",
      "    res = shell.run_cell(\n",
      "  File \"/root/.venv/lib/python3.10/site-packages/ipykernel/zmqshell.py\", line 577, in run_cell\n",
      "    return super().run_cell(*args, **kwargs)\n",
      "  File \"/root/.venv/lib/python3.10/site-packages/IPython/core/interactiveshell.py\", line 3077, in run_cell\n",
      "    result = self._run_cell(\n",
      "  File \"/root/.venv/lib/python3.10/site-packages/IPython/core/interactiveshell.py\", line 3132, in _run_cell\n",
      "    result = runner(coro)\n",
      "  File \"/root/.venv/lib/python3.10/site-packages/IPython/core/async_helpers.py\", line 128, in _pseudo_sync_runner\n",
      "    coro.send(None)\n",
      "  File \"/root/.venv/lib/python3.10/site-packages/IPython/core/interactiveshell.py\", line 3336, in run_cell_async\n",
      "    has_raised = await self.run_ast_nodes(code_ast.body, cell_name,\n",
      "  File \"/root/.venv/lib/python3.10/site-packages/IPython/core/interactiveshell.py\", line 3519, in run_ast_nodes\n",
      "    if await self.run_code(code, result, async_=asy):\n",
      "  File \"/root/.venv/lib/python3.10/site-packages/IPython/core/interactiveshell.py\", line 3579, in run_code\n",
      "    exec(code_obj, self.user_global_ns, self.user_ns)\n",
      "  File \"/tmp/ipykernel_7279/2280327432.py\", line 1, in <module>\n",
      "    import torch.nn as nn\n",
      "  File \"/root/.venv/lib/python3.10/site-packages/torch/__init__.py\", line 1477, in <module>\n",
      "    from .functional import *  # noqa: F403\n",
      "  File \"/root/.venv/lib/python3.10/site-packages/torch/functional.py\", line 9, in <module>\n",
      "    import torch.nn.functional as F\n",
      "  File \"/root/.venv/lib/python3.10/site-packages/torch/nn/__init__.py\", line 1, in <module>\n",
      "    from .modules import *  # noqa: F403\n",
      "  File \"/root/.venv/lib/python3.10/site-packages/torch/nn/modules/__init__.py\", line 35, in <module>\n",
      "    from .transformer import TransformerEncoder, TransformerDecoder, \\\n",
      "  File \"/root/.venv/lib/python3.10/site-packages/torch/nn/modules/transformer.py\", line 20, in <module>\n",
      "    device: torch.device = torch.device(torch._C._get_default_device()),  # torch.device('cpu'),\n",
      "/root/.venv/lib/python3.10/site-packages/torch/nn/modules/transformer.py:20: UserWarning: Failed to initialize NumPy: _ARRAY_API not found (Triggered internally at ../torch/csrc/utils/tensor_numpy.cpp:84.)\n",
      "  device: torch.device = torch.device(torch._C._get_default_device()),  # torch.device('cpu'),\n"
     ]
    },
    {
     "name": "stdout",
     "output_type": "stream",
     "text": [
      "Jupyter environment detected. Enabling Open3D WebVisualizer.\n",
      "[Open3D INFO] WebRTC GUI backend enabled.\n",
      "[Open3D INFO] WebRTCWindowSystem: HTTP handshake server disabled.\n"
     ]
    }
   ],
   "source": [
    "\n",
    "import torch.nn as nn\n",
    "import torch.nn.functional as F\n",
    "import torch\n",
    "from torch.utils.data import Dataset, DataLoader\n",
    "import os\n",
    "import numpy as np\n",
    "import torch\n",
    "import collections\n",
    "from scipy.linalg import expm,norm\n",
    "import glob\n",
    "import open3d as o3d\n",
    "import struct\n",
    "import matplotlib.pyplot as plt\n",
    "from tqdm import tqdm\n",
    "from prettytable import PrettyTable\n",
    "import time\n",
    "import random"
   ]
  },
  {
   "cell_type": "code",
   "execution_count": 2,
   "id": "76f3f1f2",
   "metadata": {},
   "outputs": [
    {
     "name": "stdout",
     "output_type": "stream",
     "text": [
      "Running on: Trainmodel\n"
     ]
    }
   ],
   "source": [
    "import socket\n",
    "print(\"Running on:\", socket.gethostname())"
   ]
  },
  {
   "cell_type": "markdown",
   "id": "c92fcbb6",
   "metadata": {},
   "source": [
    "<h2> Build PointNet++ </h2>"
   ]
  },
  {
   "cell_type": "code",
   "execution_count": 3,
   "id": "904e55e1",
   "metadata": {},
   "outputs": [],
   "source": [
    "\n",
    "\n",
    "# helper functions:\n",
    "def farthest_point_sample(xyz, npoint):\n",
    "    batch_size, n, _ = xyz.shape\n",
    "    device = xyz.device\n",
    "    centroids = torch.zeros(batch_size, npoint, dtype=torch.long).to(device)\n",
    "    distance = torch.ones(batch_size, n).to(device) * 1e10\n",
    "    farthest = torch.randint(0, n, (batch_size,), dtype=torch.long).to(device)\n",
    "    batch_indices = torch.arange(batch_size, dtype=torch.long).to(device)\n",
    "\n",
    "    for i in range(npoint):\n",
    "        centroids[:, i] = farthest\n",
    "        centroid = xyz[batch_indices, farthest, :].unsqueeze(1)  # [B, 1, 3]\n",
    "        dist = torch.sum((xyz - centroid) ** 2, -1)  # Squared distance [B, N]\n",
    "        mask = dist < distance\n",
    "        distance[mask] = dist[mask]\n",
    "        farthest = torch.max(distance, -1)[1]  # Index of the farthest point\n",
    "\n",
    "    return centroids\n",
    "\n",
    "\n",
    "def gather_points(points, idx):\n",
    "    \"\"\"\n",
    "    points: [B, N, C]\n",
    "    idx: [B, S] or [B, S, K]\n",
    "    Output: [B, S, C] or [B, S, K, C]\n",
    "    \"\"\"\n",
    "    B = points.shape[0]\n",
    "    if idx.dim() == 2:\n",
    "        batch_indices = torch.arange(B, dtype=torch.long, device=points.device).view(B, 1).repeat(1, idx.shape[1])\n",
    "        return points[batch_indices, idx]  # [B, S, C]\n",
    "    elif idx.dim() == 3:\n",
    "        B, S, K = idx.shape\n",
    "        C = points.shape[2]\n",
    "        idx_expand = idx.unsqueeze(-1).expand(-1, -1, -1, C)\n",
    "        points_expand = points.unsqueeze(1).expand(-1, S, -1, -1)\n",
    "        return torch.gather(points_expand, 2, idx_expand)  # [B, S, K, C]\n",
    "\n",
    "\n",
    "def query_and_group(xyz, new_xyz, points, radius, nsample):\n",
    "    B, N, _ = xyz.shape\n",
    "    _, npoint, _ = new_xyz.shape\n",
    "\n",
    "    # Compute squared distances between sampled points and all points\n",
    "    sqrdists = square_distance(new_xyz, xyz)  # [B, npoint, N]\n",
    "\n",
    "    # Find indices of the nearest neighbors\n",
    "    group_idx = sqrdists.argsort(dim=-1)[:, :, :nsample]  # [B, npoint, nsample]\n",
    "\n",
    "    # Gather the grouped xyz coordinates\n",
    "    grouped_xyz = gather_points(xyz, group_idx)  # [B, npoint, nsample, 3]\n",
    "    grouped_xyz = grouped_xyz - new_xyz.unsqueeze(2)  # Local coordinates [B, npoint, nsample, 3]\n",
    "\n",
    "    if points is not None:\n",
    "        grouped_points = gather_points(points.transpose(1, 2), group_idx).permute(0, 3, 2, 1)  # [B, C, nsample, npoint]\n",
    "        new_points = torch.cat([grouped_xyz.permute(0, 3, 2, 1), grouped_points], dim=1)  # [B, C+3, nsample, npoint]\n",
    "    else:\n",
    "        new_points = grouped_xyz.permute(0, 3, 2, 1)  # [B, 3, nsample, npoint]\n",
    "\n",
    "    return new_points\n",
    "\n",
    "\n",
    "def square_distance(src, dst):\n",
    "    B, N, _ = src.shape\n",
    "    _, M, _ = dst.shape\n",
    "    dist = -2 * torch.matmul(src, dst.permute(0, 2, 1))  # [B, N, M]\n",
    "    dist += torch.sum(src ** 2, -1).view(B, N, 1)\n",
    "    dist += torch.sum(dst ** 2, -1).view(B, 1, M)\n",
    "    return dist\n",
    "\n",
    "\n",
    "class SetAbstraction(nn.Module):\n",
    "    def __init__(self, npoint, radius, nsample, in_channel, mlp):\n",
    "        super(SetAbstraction, self).__init__()\n",
    "        self.npoint = npoint\n",
    "        self.radius = radius\n",
    "        self.nsample = nsample\n",
    "\n",
    "        # Include x, y, z coordinates in the input channel count\n",
    "        last_channel = in_channel + 3  # Add (x, y, z)\n",
    "        self.mlp_convs = nn.ModuleList()\n",
    "        self.mlp_bns = nn.ModuleList()\n",
    "        for out_channel in mlp:\n",
    "            self.mlp_convs.append(nn.Conv2d(last_channel, out_channel, 1))  # Conv2D expects [B, C_in, nsample, npoint]\n",
    "            self.mlp_bns.append(nn.BatchNorm2d(out_channel))\n",
    "            last_channel = out_channel\n",
    "\n",
    "    def forward(self, xyz, points):\n",
    "\n",
    "\n",
    "        if self.npoint is not None:\n",
    "            idx = farthest_point_sample(xyz, self.npoint)  # [B, npoint]\n",
    "            new_xyz = gather_points(xyz, idx)  # [B, npoint, 3]\n",
    "        else:\n",
    "            new_xyz = xyz  # Use all points if npoint is None\n",
    "\n",
    "        grouped_points = query_and_group(xyz, new_xyz, points, self.radius, self.nsample)  # [B, C+3, nsample, npoint]\n",
    "        for i, conv in enumerate(self.mlp_convs):\n",
    "            grouped_points = F.relu(self.mlp_bns[i](conv(grouped_points)))  # [B, out_channel, nsample, npoint]\n",
    "\n",
    "        # Max pooling over nsample dimension\n",
    "        new_points = torch.max(grouped_points, 2)[0]  # [B, mlp[-1], npoint]\n",
    "        return new_xyz, new_points\n",
    "    \n",
    "    \n",
    "class Attention(nn.Module):\n",
    "    \"\"\"\n",
    "    Lớp self-attention cho đặc trưng điểm trong point cloud.\n",
    "    Dùng sau mỗi tầng Set Abstraction để tăng hiệu suất mô hình học hình học.\n",
    "    Input: [B, C, N] (batch, channel, num_points)\n",
    "    Output: [B, C, N]\n",
    "    \"\"\"\n",
    "    def __init__(self, in_channels, heads=4):\n",
    "        super(Attention, self).__init__()\n",
    "        self.in_channels = in_channels\n",
    "        self.heads = heads\n",
    "        self.dk = in_channels // heads\n",
    "        assert in_channels % heads == 0, \"in_channels phải chia hết cho số heads\"\n",
    "        self.query = nn.Conv1d(in_channels, in_channels, 1)\n",
    "        self.key = nn.Conv1d(in_channels, in_channels, 1)\n",
    "        self.value = nn.Conv1d(in_channels, in_channels, 1)\n",
    "        self.proj = nn.Conv1d(in_channels, in_channels, 1)\n",
    "\n",
    "    def forward(self, x):\n",
    "        # x: [B, C, N]\n",
    "         # x: [B, C, N]\n",
    "        B, C, N = x.shape\n",
    "        Q = self.query(x).view(B, self.heads, self.dk, N).permute(0, 1, 3, 2)  # [B, H, N, dk]\n",
    "        K = self.key(x).view(B, self.heads, self.dk, N)                        # [B, H, dk, N]\n",
    "        V = self.value(x).view(B, self.heads, self.dk, N)                      # [B, H, dk, N]\n",
    "\n",
    "        # Compute scaled dot-product attention\n",
    "        attn_scores = torch.matmul(Q, K) / (self.dk ** 0.5)  # [B, H, N, N]\n",
    "        attn = torch.softmax(attn_scores, dim=-1)            # [B, H, N, N]\n",
    "\n",
    "        out = torch.matmul(attn, V.permute(0, 1, 3, 2))       # [B, H, N, dk]\n",
    "        out = out.permute(0, 1, 3, 2).contiguous().view(B, C, N)  # [B, C, N]\n",
    "        out = self.proj(out)\n",
    "        return out + x  # Residual connection\n",
    "    \n",
    "class PointNetFeaturePropagation(nn.Module):\n",
    "\n",
    "    \"\"\" Feature Propagation layer for PointNet++.\n",
    "    Input: \n",
    "        xyz1: điểm có ít đặc trưng (thường là full resolution, eg. 2048)\n",
    "        xyz2: điểm có nhiều đặc trưng (đã được downsample, eg. 512)\n",
    "        points1: đặc trưng xyz1 (thường là None hoặc từ FP trước đó)\n",
    "        points2: đặc trưng xyz2 (output của SA)\n",
    "    Output:\n",
    "        features của xyz1 (nhiều điểm) sau khi được interpolate từ xyz2 \"\"\"\n",
    "    \n",
    "    def __init__(self, in_channel, mlp):\n",
    "        super(PointNetFeaturePropagation, self).__init__()\n",
    "        self.mlp_convs = nn.ModuleList()\n",
    "        self.mlp_bns = nn.ModuleList()\n",
    "        last_channel = in_channel\n",
    "        for out_channel in mlp:\n",
    "            self.mlp_convs.append(nn.Conv1d(last_channel, out_channel, 1))\n",
    "            self.mlp_bns.append(nn.BatchNorm1d(out_channel))\n",
    "            last_channel = out_channel\n",
    "    \n",
    "    def forward(self, xyz1, xyz2, points1, points2):\n",
    "        \"\"\"\n",
    "        Input:\n",
    "            xyz1: [B, N, 3] - target points (original/resampled)\n",
    "            xyz2: [B, S, 3] - source points (from SA, usually downsampled)\n",
    "            points1: [B, C1, N] - features for xyz1 (may be None)\n",
    "            points2: [B, C2, S] - features for xyz2\n",
    "\n",
    "        Return:\n",
    "            new_points: [B, mlp[-1], N] \n",
    "        \"\"\"\n",
    "        B, N, C = xyz1.shape\n",
    "        _, S, _ = xyz2.shape\n",
    "        if S == 1:\n",
    "            interpolated_points = points2.repeat(1, 1, N)\n",
    "        else:\n",
    "            # 3 nearest neighbor interpolation\n",
    "            dists = square_distance(xyz1, xyz2)  # [B, N, S]\n",
    "            dists, idx = dists.sort(dim=-1)  # sorted distances\n",
    "            dists, idx = dists[:, :, :3], idx[:, :, :3]  # Take 3-NN\n",
    "\n",
    "            dist_recip = 1.0 / (dists + 1e-8)  # Avoid division by 0\n",
    "            norm = torch.sum(dist_recip, dim=2, keepdim=True)\n",
    "            weight = dist_recip / norm\n",
    "\n",
    "            interpolated_points = torch.sum(gather_points(points2.transpose(1, 2), idx) * weight.unsqueeze(-1), dim=2)\n",
    "            interpolated_points = interpolated_points.transpose(1, 2)  # [B, C2, N]\n",
    "\n",
    "        if points1 is not None:\n",
    "            new_points = torch.cat([interpolated_points, points1], dim=1)  # [B, C1+C2, N]\n",
    "        else:\n",
    "            new_points = interpolated_points  # [B, C2, N]\n",
    "\n",
    "        for i, conv in enumerate(self.mlp_convs):\n",
    "            new_points = F.relu(self.mlp_bns[i](conv(new_points)))  # [B, out, N]\n",
    "\n",
    "        return new_points\n",
    "    \n",
    "class LightHead(nn.Module):\n",
    "    def __init__(self, in_dim, num_classes):\n",
    "        super().__init__()\n",
    "        self.global_pool = nn.AdaptiveMaxPool1d(1)\n",
    "        self.conv1 = nn.Conv1d(in_dim, 128, 1)\n",
    "        self.conv2 = nn.Conv1d(128, num_classes, 1)\n",
    "        \n",
    "\n",
    "        self.bn1 = nn.BatchNorm1d(128)\n",
    "        self.bn2 = nn.BatchNorm1d(num_classes)\n",
    "\n",
    "        self.dropout1 = nn.Dropout(0.3)\n",
    "        self.dropout2 = nn.Dropout(0.3)\n",
    "        \n",
    "    def forward(self, x):\n",
    "        x = self.global_pool(x)\n",
    "        x = F.relu(self.dropout1(self.bn1(self.conv1(x)))) \n",
    "        x = F.relu(self.dropout2(self.bn2(self.conv2(x))))\n",
    "        x= x.squeeze(dim=-1)\n",
    "        return x\n",
    "    \n",
    "\n",
    "class PointNetBackbone(nn.Module):\n",
    "    def __init__(self):\n",
    "        super(PointNetBackbone,self).__init__()\n",
    "        \n",
    "        # Set Abstraction layers\n",
    "        self.sa1 = SetAbstraction(npoint=128, radius=0.2, nsample=64, in_channel=0, mlp=[32,64])\n",
    "        self.sa2 = SetAbstraction(npoint=64, radius=0.4, nsample=64, in_channel=64, mlp=[64, 128])\n",
    "        self.sa3 = SetAbstraction(npoint=None, radius=None, nsample=None, in_channel=128, mlp=[128,128])\n",
    "        # Attention layers\n",
    "        self.sa1_attention = Attention(in_channels=64, heads=4)\n",
    "        self.sa2_attention = Attention(in_channels=128, heads=4)\n",
    "        self.sa3_attention = Attention(in_channels=128, heads=4)\n",
    "    \n",
    "    def forward(self, xyz):\n",
    "        batch_size, _, _ = xyz.shape\n",
    "\n",
    "        # Hierarchical feature extraction\n",
    "        l1_xyz, l1_points = self.sa1(xyz, None)  \n",
    "        l1_points = self.sa1_attention(l1_points)     \n",
    "        l2_xyz, l2_points = self.sa2(l1_xyz, l1_points)  \n",
    "        l2_points = self.sa2_attention(l2_points)\n",
    "        _, l3_points = self.sa3(l2_xyz, l2_points)\n",
    "        l3_points = self.sa3_attention(l3_points)\n",
    "        return l3_points\n",
    "        \n",
    "class DetectionHead(nn.Module):\n",
    "    def __init__(self, in_dim, num_classes):\n",
    "        super().__init__()\n",
    "        self.class_head = LightHead(in_dim, num_classes)\n",
    "        self.bbox_pool = nn.AdaptiveMaxPool1d(1)\n",
    "        self.bbox_fc = nn.Sequential(\n",
    "            nn.Linear(in_dim, 128),\n",
    "            nn.ReLU(),\n",
    "            nn.Linear(128, 7)\n",
    "        )\n",
    "\n",
    "    def forward(self, features):\n",
    "        class_logits = self.class_head(features)\n",
    "        \n",
    "        x = self.bbox_pool(features).squeeze(-1)  # [B, C]\n",
    "        bbox = self.bbox_fc(x)                   # [B, 7]\n",
    "        return class_logits, bbox\n",
    "\n",
    "class PointNetPlusPlusDetection(nn.Module):\n",
    "    def __init__(self, num_classes):\n",
    "        super().__init__()\n",
    "        self.backbone = PointNetBackbone()\n",
    "        self.head = DetectionHead(in_dim=128, num_classes=num_classes)\n",
    "\n",
    "    def forward(self, xyz):\n",
    "        features = self.backbone(xyz)\n",
    "        class_logits, bbox = self.head(features)\n",
    "        return class_logits, bbox\n",
    "\n",
    "\n",
    "\n"
   ]
  },
  {
   "cell_type": "markdown",
   "id": "aaee1d15",
   "metadata": {},
   "source": [
    "<h2> Dataset utils </h2>"
   ]
  },
  {
   "cell_type": "code",
   "execution_count": 4,
   "id": "8dfe2c51",
   "metadata": {},
   "outputs": [],
   "source": [
    "def extract_unique_labels(label_dir):\n",
    "    unique_labels = set()\n",
    "    for label_file in os.listdir(label_dir):\n",
    "        if label_file.endswith('.txt'):\n",
    "            with open(os.path.join(label_dir, label_file), 'r') as file:\n",
    "                for line in file:\n",
    "                    parts = line.strip().split()\n",
    "                    if parts[0] == 'DontCare':\n",
    "                        continue\n",
    "                    unique_labels.add(parts[0])  # Add the label (Class)\n",
    "    return sorted(unique_labels)"
   ]
  },
  {
   "cell_type": "code",
   "execution_count": 5,
   "id": "e49437b8",
   "metadata": {},
   "outputs": [],
   "source": [
    "def bin_to_pcd(binFileName):\n",
    "    size_float = 4\n",
    "    list_pcd = []\n",
    "    with open(binFileName, \"rb\") as f:\n",
    "        byte = f.read(size_float * 4)\n",
    "        while byte:\n",
    "            x, y, z, intensity = struct.unpack(\"ffff\", byte)\n",
    "            list_pcd.append([x, y, z])\n",
    "            byte = f.read(size_float * 4)\n",
    "    np_pcd = np.asarray(list_pcd)\n",
    "    pcd = o3d.geometry.PointCloud()\n",
    "    pcd.points = o3d.utility.Vector3dVector(np_pcd)\n",
    "    return pcd"
   ]
  },
  {
   "cell_type": "code",
   "execution_count": 6,
   "id": "ec37f766",
   "metadata": {},
   "outputs": [
    {
     "name": "stdout",
     "output_type": "stream",
     "text": [
      "Extracted label mapping: {'Car': 0, 'Cyclist': 1, 'Misc': 2, 'Pedestrian': 3, 'Person_sitting': 4, 'Tram': 5, 'Truck': 6, 'Van': 7}\n"
     ]
    }
   ],
   "source": [
    "velodyne_dir = r\"/root/data/training/velodyne\"\n",
    "label_dir = r\"/root/data/training/label_2\"\n",
    "calib_dir = r\"/root/data/training/calib\"\n",
    "unique_labels = extract_unique_labels(label_dir)\n",
    "label_to_id = {label: idx for idx, label in enumerate(unique_labels)}\n",
    "print(\"Extracted label mapping:\", label_to_id)"
   ]
  },
  {
   "cell_type": "code",
   "execution_count": 7,
   "id": "afb2fb90",
   "metadata": {},
   "outputs": [],
   "source": [
    "def read_velodyne_bin(bin_path):\n",
    "    \"\"\"\n",
    "    Đọc file .bin từ KITTI và trả về mảng (N, 4): x, y, z, reflectance\n",
    "    \"\"\"\n",
    "    return np.fromfile(bin_path, dtype=np.float32).reshape(-1, 4)"
   ]
  },
  {
   "cell_type": "code",
   "execution_count": 8,
   "id": "dfe756d3",
   "metadata": {},
   "outputs": [],
   "source": [
    "def read_kitti_label(label_file):\n",
    "    \"\"\"\n",
    "    Đọc file .txt nhãn từ KITTI object detection.\n",
    "    Trả về danh sách bounding box + class:\n",
    "    [class, x, y, z, h, w, l, ry]\n",
    "    \"\"\"\n",
    "    if not label_file.endswith('.txt'):\n",
    "        return None\n",
    "    boxes = []\n",
    "    with open(label_file, 'r') as f:\n",
    "        for line in f:\n",
    "            if line.strip() == '':\n",
    "                continue\n",
    "            parts = line.strip().split(' ')\n",
    "            cls = parts[0]\n",
    "            if cls == 'DontCare':\n",
    "                continue\n",
    "            # Extract 3D box info\n",
    "            h, w, l = map(float, parts[8:11])\n",
    "            x, y, z = map(float, parts[11:14])\n",
    "            ry = float(parts[14])\n",
    "            boxes.append({\n",
    "                'class': cls,\n",
    "                'center': [x, y, z],\n",
    "                'size': [l, w, h],\n",
    "                'rotation': ry\n",
    "            })\n",
    "    return boxes"
   ]
  },
  {
   "cell_type": "code",
   "execution_count": 9,
   "id": "d25678ad",
   "metadata": {},
   "outputs": [],
   "source": [
    "def read_calib_file(calib_path):\n",
    "    \"\"\"\n",
    "    Đọc file calibration của KITTI và trả về các ma trận chuyển đổi\n",
    "    \"\"\"\n",
    "    data = {}\n",
    "    with open(calib_path, 'r') as f:\n",
    "        for line in f.readlines():\n",
    "            if ':' in line:\n",
    "                key, value = line.split(':', 1)\n",
    "                data[key] = np.array([float(x) for x in value.strip().split()])\n",
    "    \n",
    "    # Chuyển về ma trận đúng shape\n",
    "    data['Tr_velo_to_cam'] = data['Tr_velo_to_cam'].reshape(3, 4)\n",
    "    data['R0_rect'] = data['R0_rect'].reshape(3, 3)\n",
    "    return data"
   ]
  },
  {
   "cell_type": "code",
   "execution_count": 10,
   "id": "4f8d7f47",
   "metadata": {},
   "outputs": [],
   "source": [
    "def cam_to_velo(xyz_cam, calib):\n",
    "    \"\"\"\n",
    "    Chuyển đổi tọa độ từ camera sang lidar (velodyne)\n",
    "    xyz_cam: (N, 3) - tọa độ trong hệ camera\n",
    "    calib: dict chứa các ma trận calibration\n",
    "    \"\"\"\n",
    "    # Thêm 1 vào cuối để thành (N, 4) - homogeneous coordinates\n",
    "    xyz_cam_hom = np.hstack([xyz_cam, np.ones((xyz_cam.shape[0], 1))])\n",
    "    \n",
    "    # Lấy ma trận chuyển đổi từ velodyne sang camera\n",
    "    Tr = calib['Tr_velo_to_cam']  # (3, 4)\n",
    "    \n",
    "    # Tính ma trận nghịch đảo để chuyển từ camera sang velodyne\n",
    "    Tr_inv = np.linalg.pinv(np.vstack([Tr, [0,0,0,1]]))  # (4,4)\n",
    "    \n",
    "    # Chuyển đổi tọa độ\n",
    "    xyz_velo = (Tr_inv @ xyz_cam_hom.T).T[:, :3]\n",
    "    return xyz_velo"
   ]
  },
  {
   "cell_type": "code",
   "execution_count": 11,
   "id": "5af69846",
   "metadata": {},
   "outputs": [],
   "source": [
    "def convert_3d_box_to_velo(box, calib):\n",
    "    \"\"\"\n",
    "    Chuyển đổi 3D bounding box từ hệ camera sang hệ lidar\n",
    "    box: dict chứa thông tin box {'center': [x,y,z], 'size': [l,w,h], 'rotation': ry}\n",
    "    calib: dict chứa các ma trận calibration\n",
    "    \"\"\"\n",
    "    center_cam = np.array([box['center']])  # (1, 3)\n",
    "    center_velo = cam_to_velo(center_cam, calib)[0]  # (3,)\n",
    "    \n",
    "    # Kích thước box không đổi khi chuyển hệ tọa độ\n",
    "    size_velo = box['size']  # [l, w, h]\n",
    "    \n",
    "    # Góc quay cần điều chỉnh (thường không đổi nhiều)\n",
    "    rotation_velo = box['rotation']\n",
    "    \n",
    "    return {\n",
    "        'center': center_velo.tolist(),\n",
    "        'size': size_velo,\n",
    "        'rotation': rotation_velo,\n",
    "        'class': box['class']\n",
    "    }"
   ]
  },
  {
   "cell_type": "code",
   "execution_count": 12,
   "id": "90172b33",
   "metadata": {},
   "outputs": [],
   "source": [
    "def extract_objects_from_pointcloud_with_calib(points, bboxes, class_map, calib):\n",
    "    \"\"\"\n",
    "    Trích xuất object từ point cloud với chuyển đổi hệ tọa độ\n",
    "    \"\"\"\n",
    "    objects = []\n",
    "    for box in bboxes:\n",
    "        cls = box['class']\n",
    "        if cls not in class_map:\n",
    "            continue\n",
    "            \n",
    "        # Chuyển đổi box từ camera sang lidar\n",
    "        box_velo = convert_3d_box_to_velo(box, calib)\n",
    "        \n",
    "        center, size = box_velo['center'], box_velo['size']\n",
    "        l, w, h = size\n",
    "        x, y, z = center\n",
    "        rotation = box_velo['rotation']\n",
    "        # Hộp trục song song (AABB) trong hệ lidar\n",
    "        mask = (\n",
    "            (points[:, 0] > x - l/2) & (points[:, 0] < x + l/2) &\n",
    "            (points[:, 1] > y - w/2) & (points[:, 1] < y + w/2) &\n",
    "            (points[:, 2] > z - h/2) & (points[:, 2] < z + h/2)\n",
    "        )\n",
    "        pc_object = points[mask][:, :3]\n",
    "        \n",
    "        if len(pc_object) >= 30:  # Chỉ lấy object có đủ điểm\n",
    "            label_id = class_map[str(cls)]\n",
    "            bbox_gt = [x, y, z, l, w, h, rotation]\n",
    "            objects.append((pc_object, label_id,bbox_gt))\n",
    "            \n",
    "    return objects"
   ]
  },
  {
   "cell_type": "code",
   "execution_count": 13,
   "id": "28c6cc0a",
   "metadata": {},
   "outputs": [],
   "source": [
    "def extract_all_objects_with_calib(velodyne_dir, label_dir, calib_dir, class_map):\n",
    "    \"\"\"\n",
    "    Trích xuất tất cả object từ point cloud với chuyển đổi hệ tọa độ\n",
    "    \"\"\"\n",
    "    all_objects = []  # List chứa (pc_object, class_id)\n",
    "    bin_files = sorted(glob.glob(os.path.join(velodyne_dir, \"*.bin\")))\n",
    "\n",
    "    for bin_path in bin_files:\n",
    "        file_id = os.path.splitext(os.path.basename(bin_path))[0]  # '000012'\n",
    "\n",
    "        # Đường dẫn đến file label và calib tương ứng\n",
    "        label_path = os.path.join(label_dir, f\"{file_id}.txt\")\n",
    "        calib_path = os.path.join(calib_dir, f\"{file_id}.txt\")\n",
    "        \n",
    "        if not os.path.exists(label_path):\n",
    "            print(f\"[!] Thiếu label cho {file_id}, bỏ qua\")\n",
    "            continue\n",
    "            \n",
    "        if not os.path.exists(calib_path):\n",
    "            print(f\"[!] Thiếu calib cho {file_id}, bỏ qua\")\n",
    "            continue\n",
    "\n",
    "        # Đọc dữ liệu\n",
    "        points = read_velodyne_bin(bin_path)\n",
    "        bboxes = read_kitti_label(label_path)\n",
    "        calib = read_calib_file(calib_path)\n",
    "        \n",
    "        # Trích xuất object với chuyển đổi hệ tọa độ\n",
    "        objects = extract_objects_from_pointcloud_with_calib(points, bboxes, class_map, calib)\n",
    "        all_objects.extend(objects)\n",
    "        \n",
    "    return all_objects"
   ]
  },
  {
   "cell_type": "markdown",
   "id": "ff24ba94",
   "metadata": {},
   "source": [
    "<h2> Class Dataset </h2>\n",
    "\n",
    "\n"
   ]
  },
  {
   "cell_type": "code",
   "execution_count": 14,
   "id": "19a1f652",
   "metadata": {},
   "outputs": [
    {
     "name": "stdout",
     "output_type": "stream",
     "text": [
      "Tổng số object trích ra: 24709\n"
     ]
    }
   ],
   "source": [
    "all_objs = extract_all_objects_with_calib(velodyne_dir, label_dir, calib_dir,label_to_id)\n",
    "\n",
    "print(f\"Tổng số object trích ra: {len(all_objs)}\")\n"
   ]
  },
  {
   "cell_type": "code",
   "execution_count": 15,
   "id": "5561d4e7",
   "metadata": {},
   "outputs": [],
   "source": [
    "\n",
    "def augment_pointcloud(xyz):\n",
    "    xyz = xyz + (torch.randn_like(xyz) * 0.02)  # Gaussian noise\n",
    "\n",
    "    theta = random.uniform(0, 2 * np.pi)\n",
    "    R = torch.tensor([\n",
    "        [np.cos(theta), -np.sin(theta), 0],\n",
    "        [np.sin(theta),  np.cos(theta), 0],\n",
    "        [0,              0,             1]\n",
    "    ], dtype=xyz.dtype, device=xyz.device)\n",
    "\n",
    "    return xyz @ R.T"
   ]
  },
  {
   "cell_type": "code",
   "execution_count": 16,
   "id": "ed9926d9",
   "metadata": {},
   "outputs": [],
   "source": [
    "class KittiObjectDataset(Dataset):\n",
    "    def __init__(self,all_objs,num_points= 1024,augment=True) -> None:\n",
    "        self.all_objs = all_objs\n",
    "\n",
    "        self.num_points = num_points\n",
    "\n",
    "        self.augment= augment\n",
    "        \n",
    "    def __len__(self):\n",
    "        return len(self.all_objs)\n",
    "    \n",
    "    def __getitem__(self, index):\n",
    "        \n",
    "        pc_obj,label,bbox = self.all_objs[index]\n",
    "\n",
    "        xyz = pc_obj[:, :3]\n",
    "        xyz = torch.tensor(xyz, dtype=torch.float32)\n",
    "\n",
    "        if self.augment:\n",
    "            xyz = augment_pointcloud(xyz)\n",
    "        N = xyz.shape[0]\n",
    "        if N > self.num_points:\n",
    "            idxs = np.random.choice(xyz.shape[0], self.num_points, replace=False)\n",
    "            idxs= torch.tensor(idxs, dtype=torch.long)\n",
    "        else:\n",
    "            idxs = np.random.choice(xyz.shape[0], self.num_points, replace=True)\n",
    "            idxs= torch.tensor(idxs, dtype=torch.long)\n",
    "        \n",
    "        xyz = xyz[idxs]\n",
    "        bbox = torch.tensor(bbox, dtype=torch.float32)\n",
    "        label = torch.tensor(label, dtype=torch.long)\n",
    "\n",
    "        return {\n",
    "            \"pos\": xyz,                 \n",
    "            \"label\": label, \n",
    "            \"bbox\": bbox\n",
    "        }"
   ]
  },
  {
   "cell_type": "code",
   "execution_count": 29,
   "id": "191cddad",
   "metadata": {},
   "outputs": [],
   "source": [
    "# Training Parameters\n",
    "from torch import optim\n",
    "NUM_POINTS= 1024\n",
    "NUM_CLASSES = len(label_to_id)\n",
    "EPOCHS = 100\n",
    "BATCH_SIZE = 128\n",
    "\n",
    "# Khởi tạo mô hình detection mới\n",
    "\n",
    "new_model = PointNetPlusPlusDetection(num_classes=NUM_CLASSES).to(device)\n",
    "# Initialize model, optimizer, and loss function\n",
    "device = torch.device(\"cuda\" if torch.cuda.is_available() else \"cpu\")\n",
    "criterion_cls = nn.CrossEntropyLoss()\n",
    "criterion_bbox = nn.SmoothL1Loss()\n",
    "optimizer = torch.optim.Adam(new_model.parameters(), lr=0.001, weight_decay=1e-4)\n",
    "scheduler = torch.optim.lr_scheduler.ReduceLROnPlateau(optimizer, 'min', patience=5)"
   ]
  },
  {
   "cell_type": "code",
   "execution_count": 30,
   "id": "67c1e0a3",
   "metadata": {},
   "outputs": [
    {
     "name": "stdout",
     "output_type": "stream",
     "text": [
      "+-------------------------------------+------------+\n",
      "|               Modules               | Parameters |\n",
      "+-------------------------------------+------------+\n",
      "|   backbone.sa1.mlp_convs.0.weight   |     96     |\n",
      "|    backbone.sa1.mlp_convs.0.bias    |     32     |\n",
      "|   backbone.sa1.mlp_convs.1.weight   |    2048    |\n",
      "|    backbone.sa1.mlp_convs.1.bias    |     64     |\n",
      "|    backbone.sa1.mlp_bns.0.weight    |     32     |\n",
      "|     backbone.sa1.mlp_bns.0.bias     |     32     |\n",
      "|    backbone.sa1.mlp_bns.1.weight    |     64     |\n",
      "|     backbone.sa1.mlp_bns.1.bias     |     64     |\n",
      "|   backbone.sa2.mlp_convs.0.weight   |    4288    |\n",
      "|    backbone.sa2.mlp_convs.0.bias    |     64     |\n",
      "|   backbone.sa2.mlp_convs.1.weight   |    8192    |\n",
      "|    backbone.sa2.mlp_convs.1.bias    |    128     |\n",
      "|    backbone.sa2.mlp_bns.0.weight    |     64     |\n",
      "|     backbone.sa2.mlp_bns.0.bias     |     64     |\n",
      "|    backbone.sa2.mlp_bns.1.weight    |    128     |\n",
      "|     backbone.sa2.mlp_bns.1.bias     |    128     |\n",
      "|   backbone.sa3.mlp_convs.0.weight   |   16768    |\n",
      "|    backbone.sa3.mlp_convs.0.bias    |    128     |\n",
      "|   backbone.sa3.mlp_convs.1.weight   |   16384    |\n",
      "|    backbone.sa3.mlp_convs.1.bias    |    128     |\n",
      "|    backbone.sa3.mlp_bns.0.weight    |    128     |\n",
      "|     backbone.sa3.mlp_bns.0.bias     |    128     |\n",
      "|    backbone.sa3.mlp_bns.1.weight    |    128     |\n",
      "|     backbone.sa3.mlp_bns.1.bias     |    128     |\n",
      "| backbone.sa1_attention.query.weight |    4096    |\n",
      "|  backbone.sa1_attention.query.bias  |     64     |\n",
      "|  backbone.sa1_attention.key.weight  |    4096    |\n",
      "|   backbone.sa1_attention.key.bias   |     64     |\n",
      "| backbone.sa1_attention.value.weight |    4096    |\n",
      "|  backbone.sa1_attention.value.bias  |     64     |\n",
      "|  backbone.sa1_attention.proj.weight |    4096    |\n",
      "|   backbone.sa1_attention.proj.bias  |     64     |\n",
      "| backbone.sa2_attention.query.weight |   16384    |\n",
      "|  backbone.sa2_attention.query.bias  |    128     |\n",
      "|  backbone.sa2_attention.key.weight  |   16384    |\n",
      "|   backbone.sa2_attention.key.bias   |    128     |\n",
      "| backbone.sa2_attention.value.weight |   16384    |\n",
      "|  backbone.sa2_attention.value.bias  |    128     |\n",
      "|  backbone.sa2_attention.proj.weight |   16384    |\n",
      "|   backbone.sa2_attention.proj.bias  |    128     |\n",
      "| backbone.sa3_attention.query.weight |   16384    |\n",
      "|  backbone.sa3_attention.query.bias  |    128     |\n",
      "|  backbone.sa3_attention.key.weight  |   16384    |\n",
      "|   backbone.sa3_attention.key.bias   |    128     |\n",
      "| backbone.sa3_attention.value.weight |   16384    |\n",
      "|  backbone.sa3_attention.value.bias  |    128     |\n",
      "|  backbone.sa3_attention.proj.weight |   16384    |\n",
      "|   backbone.sa3_attention.proj.bias  |    128     |\n",
      "|     head.class_head.conv1.weight    |   16384    |\n",
      "|      head.class_head.conv1.bias     |    128     |\n",
      "|     head.class_head.conv2.weight    |    1024    |\n",
      "|      head.class_head.conv2.bias     |     8      |\n",
      "|      head.class_head.bn1.weight     |    128     |\n",
      "|       head.class_head.bn1.bias      |    128     |\n",
      "|      head.class_head.bn2.weight     |     8      |\n",
      "|       head.class_head.bn2.bias      |     8      |\n",
      "|        head.bbox_fc.0.weight        |   16384    |\n",
      "|         head.bbox_fc.0.bias         |    128     |\n",
      "|        head.bbox_fc.2.weight        |    896     |\n",
      "|         head.bbox_fc.2.bias         |     7      |\n",
      "+-------------------------------------+------------+\n",
      "Total Trainable Params: 233375\n"
     ]
    }
   ],
   "source": [
    "table = PrettyTable([\"Modules\", \"Parameters\"])\n",
    "total_params = 0\n",
    "for name, parameter in new_model.named_parameters():\n",
    "    if not parameter.requires_grad: continue\n",
    "    params = parameter.numel()\n",
    "    table.add_row([name, params])\n",
    "    total_params+=params\n",
    "print(table)\n",
    "print(f\"Total Trainable Params: {total_params}\")"
   ]
  },
  {
   "cell_type": "code",
   "execution_count": 31,
   "id": "200ed7ab",
   "metadata": {},
   "outputs": [
    {
     "name": "stdout",
     "output_type": "stream",
     "text": [
      "Tổng số mẫu trong dataset: 24709\n"
     ]
    }
   ],
   "source": [
    "from torch.utils.data import random_split\n",
    "\n",
    "dataset = KittiObjectDataset(all_objs, num_points=NUM_POINTS,augment=True)\n",
    "\n",
    "len_dataset = len(dataset)\n",
    "print(f\"Tổng số mẫu trong dataset: {len_dataset}\")\n",
    "\n",
    "train_dataset, val_dataset, test_dataset = random_split(dataset,\n",
    "                                          [round(0.7*len_dataset), round(0.1*len_dataset), round(0.2*len_dataset)],\n",
    "                                          generator=torch.Generator().manual_seed(42))\n",
    "\n",
    "train_dataloader = DataLoader(train_dataset, batch_size=BATCH_SIZE, shuffle=True, drop_last=True)\n",
    "val_dataloader = DataLoader(val_dataset, batch_size=BATCH_SIZE, shuffle=False, drop_last=True)\n",
    "test_dataloader = DataLoader(test_dataset, batch_size=BATCH_SIZE, shuffle=False)\n"
   ]
  },
  {
   "cell_type": "code",
   "execution_count": 32,
   "id": "0d798e86",
   "metadata": {},
   "outputs": [
    {
     "name": "stdout",
     "output_type": "stream",
     "text": [
      "torch.Size([128, 1024, 3])\n",
      "torch.Size([128])\n",
      "torch.Size([128, 7])\n"
     ]
    }
   ],
   "source": [
    "for batch in train_dataloader:\n",
    "    pos,label,bbox = batch['pos'],batch['label'],batch['bbox']\n",
    "    print(pos.shape)\n",
    "    print(label.shape)\n",
    "    print(bbox.shape)\n",
    "    break"
   ]
  },
  {
   "cell_type": "code",
   "execution_count": 34,
   "id": "82be401c",
   "metadata": {},
   "outputs": [],
   "source": [
    "train_loss = []\n",
    "test_loss = []\n",
    "train_acc = []\n",
    "test_acc = []\n",
    "best_loss= np.inf\n",
    "def training_loop(epochs, model, train_loader, criterion_cls, criterion_bbox,scheduler=None,alpha=1.0, beta=1.0):\n",
    "    \"\"\"\n",
    "    Hàm huấn luyện mô hình PointNet++ với dữ liệu point cloud từ KITTI.\n",
    "    \"\"\"\n",
    "    model.train()\n",
    "\n",
    "    for epoch in tqdm(range(epochs)):\n",
    "        epoch_train_loss = []\n",
    "        correct = 0\n",
    "        total = 0\n",
    "        for batch in train_loader:\n",
    "            pos , label , bbox = batch['pos'],batch['label'],batch['bbox']\n",
    "            pos= pos.to(device)\n",
    "            label = label.to(device)\n",
    "            bbox = bbox.to(device)\n",
    "            optimizer.zero_grad()\n",
    "            class_logits, bbox_preds = model(pos) \n",
    "            loss_cls = criterion_cls(class_logits, label)\n",
    "            loss_bbox = criterion_bbox(bbox_preds, bbox)\n",
    "            \n",
    "            loss = alpha * loss_cls + beta * loss_bbox\n",
    "            epoch_train_loss.append(loss.cpu().item())\n",
    "\n",
    "            loss.backward()\n",
    "            optimizer.step()\n",
    "\n",
    "            _, predicted = torch.max(class_logits, 1)\n",
    "            correct += (predicted == label).sum().item()\n",
    "            total += label.size(0)\n",
    "        avg_loss = np.mean(epoch_train_loss)\n",
    "        epoch_acc = correct / total if total > 0 else 0\n",
    "\n",
    "        train_loss.append(avg_loss)\n",
    "        train_acc.append(epoch_acc)\n",
    "\n",
    "        print(f\"Epoch {epoch+1}: train loss: {round(avg_loss, 4)}, train acc: {round(epoch_acc, 4)}\")\n",
    "        if scheduler:\n",
    "            scheduler.step(avg_loss)\n",
    "    return train_loss, train_acc\n"
   ]
  },
  {
   "cell_type": "code",
   "execution_count": 35,
   "id": "0e93aa59",
   "metadata": {},
   "outputs": [
    {
     "name": "stderr",
     "output_type": "stream",
     "text": [
      "  1%|          | 1/100 [01:32<2:32:32, 92.45s/it]"
     ]
    },
    {
     "name": "stdout",
     "output_type": "stream",
     "text": [
      "Epoch 1: train loss: 3.5672, train acc: 0.4348\n"
     ]
    },
    {
     "name": "stderr",
     "output_type": "stream",
     "text": [
      "  2%|▏         | 2/100 [03:33<2:58:06, 109.05s/it]"
     ]
    },
    {
     "name": "stdout",
     "output_type": "stream",
     "text": [
      "Epoch 2: train loss: 2.7376, train acc: 0.5421\n"
     ]
    },
    {
     "name": "stderr",
     "output_type": "stream",
     "text": [
      "  3%|▎         | 3/100 [06:44<3:57:00, 146.60s/it]"
     ]
    },
    {
     "name": "stdout",
     "output_type": "stream",
     "text": [
      "Epoch 3: train loss: 2.4682, train acc: 0.6509\n"
     ]
    },
    {
     "name": "stderr",
     "output_type": "stream",
     "text": [
      "  4%|▍         | 4/100 [10:21<4:39:10, 174.48s/it]"
     ]
    },
    {
     "name": "stdout",
     "output_type": "stream",
     "text": [
      "Epoch 4: train loss: 2.2892, train acc: 0.7149\n"
     ]
    },
    {
     "name": "stderr",
     "output_type": "stream",
     "text": [
      "  5%|▌         | 5/100 [12:46<4:19:19, 163.78s/it]"
     ]
    },
    {
     "name": "stdout",
     "output_type": "stream",
     "text": [
      "Epoch 5: train loss: 2.1662, train acc: 0.7452\n"
     ]
    },
    {
     "name": "stderr",
     "output_type": "stream",
     "text": [
      "  6%|▌         | 6/100 [16:38<4:52:54, 186.97s/it]"
     ]
    },
    {
     "name": "stdout",
     "output_type": "stream",
     "text": [
      "Epoch 6: train loss: 2.0657, train acc: 0.7598\n"
     ]
    },
    {
     "name": "stderr",
     "output_type": "stream",
     "text": [
      "  7%|▋         | 7/100 [20:44<5:19:51, 206.36s/it]"
     ]
    },
    {
     "name": "stdout",
     "output_type": "stream",
     "text": [
      "Epoch 7: train loss: 2.0106, train acc: 0.7638\n"
     ]
    },
    {
     "name": "stderr",
     "output_type": "stream",
     "text": [
      "  8%|▊         | 8/100 [21:42<4:03:57, 159.10s/it]"
     ]
    },
    {
     "name": "stdout",
     "output_type": "stream",
     "text": [
      "Epoch 8: train loss: 1.9488, train acc: 0.7627\n"
     ]
    },
    {
     "name": "stderr",
     "output_type": "stream",
     "text": [
      "  9%|▉         | 9/100 [22:39<3:12:54, 127.20s/it]"
     ]
    },
    {
     "name": "stdout",
     "output_type": "stream",
     "text": [
      "Epoch 9: train loss: 1.9003, train acc: 0.7694\n"
     ]
    },
    {
     "name": "stderr",
     "output_type": "stream",
     "text": [
      " 10%|█         | 10/100 [23:36<2:38:14, 105.49s/it]"
     ]
    },
    {
     "name": "stdout",
     "output_type": "stream",
     "text": [
      "Epoch 10: train loss: 1.8363, train acc: 0.7749\n"
     ]
    },
    {
     "name": "stderr",
     "output_type": "stream",
     "text": [
      " 11%|█         | 11/100 [24:33<2:14:30, 90.68s/it] "
     ]
    },
    {
     "name": "stdout",
     "output_type": "stream",
     "text": [
      "Epoch 11: train loss: 1.8201, train acc: 0.7698\n"
     ]
    },
    {
     "name": "stderr",
     "output_type": "stream",
     "text": [
      " 12%|█▏        | 12/100 [25:30<1:57:54, 80.40s/it]"
     ]
    },
    {
     "name": "stdout",
     "output_type": "stream",
     "text": [
      "Epoch 12: train loss: 1.7946, train acc: 0.7692\n"
     ]
    },
    {
     "name": "stderr",
     "output_type": "stream",
     "text": [
      " 13%|█▎        | 13/100 [26:27<1:46:18, 73.32s/it]"
     ]
    },
    {
     "name": "stdout",
     "output_type": "stream",
     "text": [
      "Epoch 13: train loss: 1.7609, train acc: 0.7771\n"
     ]
    },
    {
     "name": "stderr",
     "output_type": "stream",
     "text": [
      " 14%|█▍        | 14/100 [27:24<1:38:05, 68.43s/it]"
     ]
    },
    {
     "name": "stdout",
     "output_type": "stream",
     "text": [
      "Epoch 14: train loss: 1.734, train acc: 0.7775\n"
     ]
    },
    {
     "name": "stderr",
     "output_type": "stream",
     "text": [
      " 15%|█▌        | 15/100 [28:22<1:32:19, 65.18s/it]"
     ]
    },
    {
     "name": "stdout",
     "output_type": "stream",
     "text": [
      "Epoch 15: train loss: 1.7137, train acc: 0.7753\n"
     ]
    },
    {
     "name": "stderr",
     "output_type": "stream",
     "text": [
      " 16%|█▌        | 16/100 [29:20<1:28:14, 63.03s/it]"
     ]
    },
    {
     "name": "stdout",
     "output_type": "stream",
     "text": [
      "Epoch 16: train loss: 1.6874, train acc: 0.7826\n"
     ]
    },
    {
     "name": "stderr",
     "output_type": "stream",
     "text": [
      " 17%|█▋        | 17/100 [30:17<1:24:43, 61.25s/it]"
     ]
    },
    {
     "name": "stdout",
     "output_type": "stream",
     "text": [
      "Epoch 17: train loss: 1.677, train acc: 0.7799\n"
     ]
    },
    {
     "name": "stderr",
     "output_type": "stream",
     "text": [
      " 18%|█▊        | 18/100 [31:14<1:21:52, 59.91s/it]"
     ]
    },
    {
     "name": "stdout",
     "output_type": "stream",
     "text": [
      "Epoch 18: train loss: 1.6434, train acc: 0.7878\n"
     ]
    },
    {
     "name": "stderr",
     "output_type": "stream",
     "text": [
      " 19%|█▉        | 19/100 [32:11<1:19:35, 58.96s/it]"
     ]
    },
    {
     "name": "stdout",
     "output_type": "stream",
     "text": [
      "Epoch 19: train loss: 1.6599, train acc: 0.7784\n"
     ]
    },
    {
     "name": "stderr",
     "output_type": "stream",
     "text": [
      " 20%|██        | 20/100 [33:07<1:17:46, 58.33s/it]"
     ]
    },
    {
     "name": "stdout",
     "output_type": "stream",
     "text": [
      "Epoch 20: train loss: 1.6401, train acc: 0.7808\n"
     ]
    },
    {
     "name": "stderr",
     "output_type": "stream",
     "text": [
      " 21%|██        | 21/100 [34:04<1:16:06, 57.80s/it]"
     ]
    },
    {
     "name": "stdout",
     "output_type": "stream",
     "text": [
      "Epoch 21: train loss: 1.6381, train acc: 0.7848\n"
     ]
    },
    {
     "name": "stderr",
     "output_type": "stream",
     "text": [
      " 22%|██▏       | 22/100 [35:00<1:14:39, 57.43s/it]"
     ]
    },
    {
     "name": "stdout",
     "output_type": "stream",
     "text": [
      "Epoch 22: train loss: 1.6192, train acc: 0.7902\n"
     ]
    },
    {
     "name": "stderr",
     "output_type": "stream",
     "text": [
      " 23%|██▎       | 23/100 [35:57<1:13:25, 57.21s/it]"
     ]
    },
    {
     "name": "stdout",
     "output_type": "stream",
     "text": [
      "Epoch 23: train loss: 1.5975, train acc: 0.7874\n"
     ]
    },
    {
     "name": "stderr",
     "output_type": "stream",
     "text": [
      " 24%|██▍       | 24/100 [36:54<1:12:11, 57.00s/it]"
     ]
    },
    {
     "name": "stdout",
     "output_type": "stream",
     "text": [
      "Epoch 24: train loss: 1.6036, train acc: 0.7874\n"
     ]
    },
    {
     "name": "stderr",
     "output_type": "stream",
     "text": [
      " 25%|██▌       | 25/100 [37:50<1:11:03, 56.85s/it]"
     ]
    },
    {
     "name": "stdout",
     "output_type": "stream",
     "text": [
      "Epoch 25: train loss: 1.5949, train acc: 0.7888\n"
     ]
    },
    {
     "name": "stderr",
     "output_type": "stream",
     "text": [
      " 26%|██▌       | 26/100 [38:47<1:09:58, 56.73s/it]"
     ]
    },
    {
     "name": "stdout",
     "output_type": "stream",
     "text": [
      "Epoch 26: train loss: 1.5769, train acc: 0.7961\n"
     ]
    },
    {
     "name": "stderr",
     "output_type": "stream",
     "text": [
      " 27%|██▋       | 27/100 [39:44<1:09:18, 56.97s/it]"
     ]
    },
    {
     "name": "stdout",
     "output_type": "stream",
     "text": [
      "Epoch 27: train loss: 1.5653, train acc: 0.7998\n"
     ]
    },
    {
     "name": "stderr",
     "output_type": "stream",
     "text": [
      " 28%|██▊       | 28/100 [40:41<1:08:15, 56.88s/it]"
     ]
    },
    {
     "name": "stdout",
     "output_type": "stream",
     "text": [
      "Epoch 28: train loss: 1.5685, train acc: 0.7967\n"
     ]
    },
    {
     "name": "stderr",
     "output_type": "stream",
     "text": [
      " 29%|██▉       | 29/100 [41:38<1:07:17, 56.87s/it]"
     ]
    },
    {
     "name": "stdout",
     "output_type": "stream",
     "text": [
      "Epoch 29: train loss: 1.5276, train acc: 0.7911\n"
     ]
    },
    {
     "name": "stderr",
     "output_type": "stream",
     "text": [
      " 30%|███       | 30/100 [42:36<1:06:40, 57.15s/it]"
     ]
    },
    {
     "name": "stdout",
     "output_type": "stream",
     "text": [
      "Epoch 30: train loss: 1.5532, train acc: 0.7931\n"
     ]
    },
    {
     "name": "stderr",
     "output_type": "stream",
     "text": [
      " 31%|███       | 31/100 [43:33<1:05:45, 57.19s/it]"
     ]
    },
    {
     "name": "stdout",
     "output_type": "stream",
     "text": [
      "Epoch 31: train loss: 1.5288, train acc: 0.7951\n"
     ]
    },
    {
     "name": "stderr",
     "output_type": "stream",
     "text": [
      " 32%|███▏      | 32/100 [44:30<1:04:58, 57.32s/it]"
     ]
    },
    {
     "name": "stdout",
     "output_type": "stream",
     "text": [
      "Epoch 32: train loss: 1.5381, train acc: 0.7984\n"
     ]
    },
    {
     "name": "stderr",
     "output_type": "stream",
     "text": [
      " 33%|███▎      | 33/100 [45:28<1:04:01, 57.34s/it]"
     ]
    },
    {
     "name": "stdout",
     "output_type": "stream",
     "text": [
      "Epoch 33: train loss: 1.5181, train acc: 0.7957\n"
     ]
    },
    {
     "name": "stderr",
     "output_type": "stream",
     "text": [
      " 34%|███▍      | 34/100 [46:25<1:02:58, 57.25s/it]"
     ]
    },
    {
     "name": "stdout",
     "output_type": "stream",
     "text": [
      "Epoch 34: train loss: 1.5224, train acc: 0.7936\n"
     ]
    },
    {
     "name": "stderr",
     "output_type": "stream",
     "text": [
      " 35%|███▌      | 35/100 [47:22<1:02:00, 57.23s/it]"
     ]
    },
    {
     "name": "stdout",
     "output_type": "stream",
     "text": [
      "Epoch 35: train loss: 1.5192, train acc: 0.7997\n"
     ]
    },
    {
     "name": "stderr",
     "output_type": "stream",
     "text": [
      " 36%|███▌      | 36/100 [48:19<1:00:57, 57.14s/it]"
     ]
    },
    {
     "name": "stdout",
     "output_type": "stream",
     "text": [
      "Epoch 36: train loss: 1.5058, train acc: 0.7995\n"
     ]
    },
    {
     "name": "stderr",
     "output_type": "stream",
     "text": [
      " 37%|███▋      | 37/100 [49:16<59:55, 57.06s/it]  "
     ]
    },
    {
     "name": "stdout",
     "output_type": "stream",
     "text": [
      "Epoch 37: train loss: 1.5087, train acc: 0.798\n"
     ]
    },
    {
     "name": "stderr",
     "output_type": "stream",
     "text": [
      " 38%|███▊      | 38/100 [50:13<58:59, 57.09s/it]"
     ]
    },
    {
     "name": "stdout",
     "output_type": "stream",
     "text": [
      "Epoch 38: train loss: 1.4995, train acc: 0.8029\n"
     ]
    },
    {
     "name": "stderr",
     "output_type": "stream",
     "text": [
      " 39%|███▉      | 39/100 [51:10<58:04, 57.12s/it]"
     ]
    },
    {
     "name": "stdout",
     "output_type": "stream",
     "text": [
      "Epoch 39: train loss: 1.4833, train acc: 0.8056\n"
     ]
    },
    {
     "name": "stderr",
     "output_type": "stream",
     "text": [
      " 40%|████      | 40/100 [52:08<57:11, 57.19s/it]"
     ]
    },
    {
     "name": "stdout",
     "output_type": "stream",
     "text": [
      "Epoch 40: train loss: 1.4987, train acc: 0.8048\n"
     ]
    },
    {
     "name": "stderr",
     "output_type": "stream",
     "text": [
      " 41%|████      | 41/100 [53:04<56:08, 57.10s/it]"
     ]
    },
    {
     "name": "stdout",
     "output_type": "stream",
     "text": [
      "Epoch 41: train loss: 1.4884, train acc: 0.8035\n"
     ]
    },
    {
     "name": "stderr",
     "output_type": "stream",
     "text": [
      " 42%|████▏     | 42/100 [54:01<55:08, 57.04s/it]"
     ]
    },
    {
     "name": "stdout",
     "output_type": "stream",
     "text": [
      "Epoch 42: train loss: 1.4783, train acc: 0.806\n"
     ]
    },
    {
     "name": "stderr",
     "output_type": "stream",
     "text": [
      " 43%|████▎     | 43/100 [54:58<54:10, 57.03s/it]"
     ]
    },
    {
     "name": "stdout",
     "output_type": "stream",
     "text": [
      "Epoch 43: train loss: 1.4782, train acc: 0.8027\n"
     ]
    },
    {
     "name": "stderr",
     "output_type": "stream",
     "text": [
      " 44%|████▍     | 44/100 [55:55<53:15, 57.06s/it]"
     ]
    },
    {
     "name": "stdout",
     "output_type": "stream",
     "text": [
      "Epoch 44: train loss: 1.4673, train acc: 0.8049\n"
     ]
    },
    {
     "name": "stderr",
     "output_type": "stream",
     "text": [
      " 45%|████▌     | 45/100 [56:52<52:16, 57.02s/it]"
     ]
    },
    {
     "name": "stdout",
     "output_type": "stream",
     "text": [
      "Epoch 45: train loss: 1.4599, train acc: 0.7983\n"
     ]
    },
    {
     "name": "stderr",
     "output_type": "stream",
     "text": [
      " 46%|████▌     | 46/100 [57:49<51:14, 56.94s/it]"
     ]
    },
    {
     "name": "stdout",
     "output_type": "stream",
     "text": [
      "Epoch 46: train loss: 1.4535, train acc: 0.8053\n"
     ]
    },
    {
     "name": "stderr",
     "output_type": "stream",
     "text": [
      " 47%|████▋     | 47/100 [58:46<50:16, 56.92s/it]"
     ]
    },
    {
     "name": "stdout",
     "output_type": "stream",
     "text": [
      "Epoch 47: train loss: 1.47, train acc: 0.803\n"
     ]
    },
    {
     "name": "stderr",
     "output_type": "stream",
     "text": [
      " 48%|████▊     | 48/100 [59:43<49:19, 56.91s/it]"
     ]
    },
    {
     "name": "stdout",
     "output_type": "stream",
     "text": [
      "Epoch 48: train loss: 1.4429, train acc: 0.8057\n"
     ]
    },
    {
     "name": "stderr",
     "output_type": "stream",
     "text": [
      " 49%|████▉     | 49/100 [1:00:40<48:20, 56.88s/it]"
     ]
    },
    {
     "name": "stdout",
     "output_type": "stream",
     "text": [
      "Epoch 49: train loss: 1.4419, train acc: 0.8076\n"
     ]
    },
    {
     "name": "stderr",
     "output_type": "stream",
     "text": [
      " 50%|█████     | 50/100 [1:01:37<47:30, 57.00s/it]"
     ]
    },
    {
     "name": "stdout",
     "output_type": "stream",
     "text": [
      "Epoch 50: train loss: 1.4508, train acc: 0.8105\n"
     ]
    },
    {
     "name": "stderr",
     "output_type": "stream",
     "text": [
      " 51%|█████     | 51/100 [1:02:35<46:48, 57.31s/it]"
     ]
    },
    {
     "name": "stdout",
     "output_type": "stream",
     "text": [
      "Epoch 51: train loss: 1.4465, train acc: 0.8031\n"
     ]
    },
    {
     "name": "stderr",
     "output_type": "stream",
     "text": [
      " 52%|█████▏    | 52/100 [1:03:32<45:47, 57.25s/it]"
     ]
    },
    {
     "name": "stdout",
     "output_type": "stream",
     "text": [
      "Epoch 52: train loss: 1.4301, train acc: 0.8095\n"
     ]
    },
    {
     "name": "stderr",
     "output_type": "stream",
     "text": [
      " 53%|█████▎    | 53/100 [1:04:30<44:54, 57.33s/it]"
     ]
    },
    {
     "name": "stdout",
     "output_type": "stream",
     "text": [
      "Epoch 53: train loss: 1.4338, train acc: 0.808\n"
     ]
    },
    {
     "name": "stderr",
     "output_type": "stream",
     "text": [
      " 54%|█████▍    | 54/100 [1:05:26<43:49, 57.17s/it]"
     ]
    },
    {
     "name": "stdout",
     "output_type": "stream",
     "text": [
      "Epoch 54: train loss: 1.4304, train acc: 0.8111\n"
     ]
    },
    {
     "name": "stderr",
     "output_type": "stream",
     "text": [
      " 55%|█████▌    | 55/100 [1:06:23<42:47, 57.06s/it]"
     ]
    },
    {
     "name": "stdout",
     "output_type": "stream",
     "text": [
      "Epoch 55: train loss: 1.4198, train acc: 0.8138\n"
     ]
    },
    {
     "name": "stderr",
     "output_type": "stream",
     "text": [
      " 56%|█████▌    | 56/100 [1:07:20<41:49, 57.03s/it]"
     ]
    },
    {
     "name": "stdout",
     "output_type": "stream",
     "text": [
      "Epoch 56: train loss: 1.419, train acc: 0.8127\n"
     ]
    },
    {
     "name": "stderr",
     "output_type": "stream",
     "text": [
      " 57%|█████▋    | 57/100 [1:08:17<40:51, 57.00s/it]"
     ]
    },
    {
     "name": "stdout",
     "output_type": "stream",
     "text": [
      "Epoch 57: train loss: 1.4356, train acc: 0.805\n"
     ]
    },
    {
     "name": "stderr",
     "output_type": "stream",
     "text": [
      " 58%|█████▊    | 58/100 [1:09:14<39:54, 57.02s/it]"
     ]
    },
    {
     "name": "stdout",
     "output_type": "stream",
     "text": [
      "Epoch 58: train loss: 1.4121, train acc: 0.8125\n"
     ]
    },
    {
     "name": "stderr",
     "output_type": "stream",
     "text": [
      " 59%|█████▉    | 59/100 [1:10:11<38:55, 56.96s/it]"
     ]
    },
    {
     "name": "stdout",
     "output_type": "stream",
     "text": [
      "Epoch 59: train loss: 1.418, train acc: 0.8119\n"
     ]
    },
    {
     "name": "stderr",
     "output_type": "stream",
     "text": [
      " 60%|██████    | 60/100 [1:11:09<38:10, 57.26s/it]"
     ]
    },
    {
     "name": "stdout",
     "output_type": "stream",
     "text": [
      "Epoch 60: train loss: 1.4219, train acc: 0.8117\n"
     ]
    },
    {
     "name": "stderr",
     "output_type": "stream",
     "text": [
      " 61%|██████    | 61/100 [1:12:06<37:12, 57.25s/it]"
     ]
    },
    {
     "name": "stdout",
     "output_type": "stream",
     "text": [
      "Epoch 61: train loss: 1.4184, train acc: 0.8127\n"
     ]
    },
    {
     "name": "stderr",
     "output_type": "stream",
     "text": [
      " 62%|██████▏   | 62/100 [1:13:03<36:12, 57.18s/it]"
     ]
    },
    {
     "name": "stdout",
     "output_type": "stream",
     "text": [
      "Epoch 62: train loss: 1.4251, train acc: 0.8092\n"
     ]
    },
    {
     "name": "stderr",
     "output_type": "stream",
     "text": [
      " 63%|██████▎   | 63/100 [1:14:00<35:16, 57.19s/it]"
     ]
    },
    {
     "name": "stdout",
     "output_type": "stream",
     "text": [
      "Epoch 63: train loss: 1.3902, train acc: 0.815\n"
     ]
    },
    {
     "name": "stderr",
     "output_type": "stream",
     "text": [
      " 64%|██████▍   | 64/100 [1:14:57<34:14, 57.08s/it]"
     ]
    },
    {
     "name": "stdout",
     "output_type": "stream",
     "text": [
      "Epoch 64: train loss: 1.4042, train acc: 0.8155\n"
     ]
    },
    {
     "name": "stderr",
     "output_type": "stream",
     "text": [
      " 65%|██████▌   | 65/100 [1:15:55<33:20, 57.16s/it]"
     ]
    },
    {
     "name": "stdout",
     "output_type": "stream",
     "text": [
      "Epoch 65: train loss: 1.4035, train acc: 0.8119\n"
     ]
    },
    {
     "name": "stderr",
     "output_type": "stream",
     "text": [
      " 66%|██████▌   | 66/100 [1:16:51<32:20, 57.06s/it]"
     ]
    },
    {
     "name": "stdout",
     "output_type": "stream",
     "text": [
      "Epoch 66: train loss: 1.4026, train acc: 0.8164\n"
     ]
    },
    {
     "name": "stderr",
     "output_type": "stream",
     "text": [
      " 67%|██████▋   | 67/100 [1:17:48<31:20, 56.99s/it]"
     ]
    },
    {
     "name": "stdout",
     "output_type": "stream",
     "text": [
      "Epoch 67: train loss: 1.384, train acc: 0.8187\n"
     ]
    },
    {
     "name": "stderr",
     "output_type": "stream",
     "text": [
      " 68%|██████▊   | 68/100 [1:18:46<30:27, 57.10s/it]"
     ]
    },
    {
     "name": "stdout",
     "output_type": "stream",
     "text": [
      "Epoch 68: train loss: 1.3949, train acc: 0.8135\n"
     ]
    },
    {
     "name": "stderr",
     "output_type": "stream",
     "text": [
      " 69%|██████▉   | 69/100 [1:19:43<29:32, 57.18s/it]"
     ]
    },
    {
     "name": "stdout",
     "output_type": "stream",
     "text": [
      "Epoch 69: train loss: 1.3896, train acc: 0.8102\n"
     ]
    },
    {
     "name": "stderr",
     "output_type": "stream",
     "text": [
      " 70%|███████   | 70/100 [1:20:40<28:33, 57.12s/it]"
     ]
    },
    {
     "name": "stdout",
     "output_type": "stream",
     "text": [
      "Epoch 70: train loss: 1.3943, train acc: 0.8175\n"
     ]
    },
    {
     "name": "stderr",
     "output_type": "stream",
     "text": [
      " 71%|███████   | 71/100 [1:21:37<27:37, 57.17s/it]"
     ]
    },
    {
     "name": "stdout",
     "output_type": "stream",
     "text": [
      "Epoch 71: train loss: 1.3688, train acc: 0.816\n"
     ]
    },
    {
     "name": "stderr",
     "output_type": "stream",
     "text": [
      " 72%|███████▏  | 72/100 [1:22:34<26:40, 57.16s/it]"
     ]
    },
    {
     "name": "stdout",
     "output_type": "stream",
     "text": [
      "Epoch 72: train loss: 1.379, train acc: 0.815\n"
     ]
    },
    {
     "name": "stderr",
     "output_type": "stream",
     "text": [
      " 73%|███████▎  | 73/100 [1:23:32<25:48, 57.35s/it]"
     ]
    },
    {
     "name": "stdout",
     "output_type": "stream",
     "text": [
      "Epoch 73: train loss: 1.3757, train acc: 0.8194\n"
     ]
    },
    {
     "name": "stderr",
     "output_type": "stream",
     "text": [
      " 74%|███████▍  | 74/100 [1:24:30<24:55, 57.52s/it]"
     ]
    },
    {
     "name": "stdout",
     "output_type": "stream",
     "text": [
      "Epoch 74: train loss: 1.3714, train acc: 0.8203\n"
     ]
    },
    {
     "name": "stderr",
     "output_type": "stream",
     "text": [
      " 75%|███████▌  | 75/100 [1:25:29<24:06, 57.85s/it]"
     ]
    },
    {
     "name": "stdout",
     "output_type": "stream",
     "text": [
      "Epoch 75: train loss: 1.3817, train acc: 0.8165\n"
     ]
    },
    {
     "name": "stderr",
     "output_type": "stream",
     "text": [
      " 76%|███████▌  | 76/100 [1:26:26<23:04, 57.69s/it]"
     ]
    },
    {
     "name": "stdout",
     "output_type": "stream",
     "text": [
      "Epoch 76: train loss: 1.3738, train acc: 0.8173\n"
     ]
    },
    {
     "name": "stderr",
     "output_type": "stream",
     "text": [
      " 77%|███████▋  | 77/100 [1:27:23<22:02, 57.50s/it]"
     ]
    },
    {
     "name": "stdout",
     "output_type": "stream",
     "text": [
      "Epoch 77: train loss: 1.3688, train acc: 0.8182\n"
     ]
    },
    {
     "name": "stderr",
     "output_type": "stream",
     "text": [
      " 78%|███████▊  | 78/100 [1:28:20<21:02, 57.39s/it]"
     ]
    },
    {
     "name": "stdout",
     "output_type": "stream",
     "text": [
      "Epoch 78: train loss: 1.3139, train acc: 0.8211\n"
     ]
    },
    {
     "name": "stderr",
     "output_type": "stream",
     "text": [
      " 79%|███████▉  | 79/100 [1:29:17<20:03, 57.30s/it]"
     ]
    },
    {
     "name": "stdout",
     "output_type": "stream",
     "text": [
      "Epoch 79: train loss: 1.2949, train acc: 0.8237\n"
     ]
    },
    {
     "name": "stderr",
     "output_type": "stream",
     "text": [
      " 80%|████████  | 80/100 [1:30:14<19:04, 57.21s/it]"
     ]
    },
    {
     "name": "stdout",
     "output_type": "stream",
     "text": [
      "Epoch 80: train loss: 1.2866, train acc: 0.8263\n"
     ]
    },
    {
     "name": "stderr",
     "output_type": "stream",
     "text": [
      " 81%|████████  | 81/100 [1:31:11<18:05, 57.15s/it]"
     ]
    },
    {
     "name": "stdout",
     "output_type": "stream",
     "text": [
      "Epoch 81: train loss: 1.2809, train acc: 0.8304\n"
     ]
    },
    {
     "name": "stderr",
     "output_type": "stream",
     "text": [
      " 82%|████████▏ | 82/100 [1:32:08<17:08, 57.12s/it]"
     ]
    },
    {
     "name": "stdout",
     "output_type": "stream",
     "text": [
      "Epoch 82: train loss: 1.2833, train acc: 0.8269\n"
     ]
    },
    {
     "name": "stderr",
     "output_type": "stream",
     "text": [
      " 83%|████████▎ | 83/100 [1:33:06<16:12, 57.19s/it]"
     ]
    },
    {
     "name": "stdout",
     "output_type": "stream",
     "text": [
      "Epoch 83: train loss: 1.2726, train acc: 0.827\n"
     ]
    },
    {
     "name": "stderr",
     "output_type": "stream",
     "text": [
      " 84%|████████▍ | 84/100 [1:34:02<15:12, 57.06s/it]"
     ]
    },
    {
     "name": "stdout",
     "output_type": "stream",
     "text": [
      "Epoch 84: train loss: 1.2754, train acc: 0.8299\n"
     ]
    },
    {
     "name": "stderr",
     "output_type": "stream",
     "text": [
      " 85%|████████▌ | 85/100 [1:34:59<14:13, 56.93s/it]"
     ]
    },
    {
     "name": "stdout",
     "output_type": "stream",
     "text": [
      "Epoch 85: train loss: 1.2603, train acc: 0.8318\n"
     ]
    },
    {
     "name": "stderr",
     "output_type": "stream",
     "text": [
      " 86%|████████▌ | 86/100 [1:35:56<13:16, 56.86s/it]"
     ]
    },
    {
     "name": "stdout",
     "output_type": "stream",
     "text": [
      "Epoch 86: train loss: 1.2787, train acc: 0.8287\n"
     ]
    },
    {
     "name": "stderr",
     "output_type": "stream",
     "text": [
      " 87%|████████▋ | 87/100 [1:36:54<12:22, 57.11s/it]"
     ]
    },
    {
     "name": "stdout",
     "output_type": "stream",
     "text": [
      "Epoch 87: train loss: 1.2641, train acc: 0.8334\n"
     ]
    },
    {
     "name": "stderr",
     "output_type": "stream",
     "text": [
      " 88%|████████▊ | 88/100 [1:37:50<11:23, 56.99s/it]"
     ]
    },
    {
     "name": "stdout",
     "output_type": "stream",
     "text": [
      "Epoch 88: train loss: 1.257, train acc: 0.8337\n"
     ]
    },
    {
     "name": "stderr",
     "output_type": "stream",
     "text": [
      " 89%|████████▉ | 89/100 [1:38:47<10:26, 56.92s/it]"
     ]
    },
    {
     "name": "stdout",
     "output_type": "stream",
     "text": [
      "Epoch 89: train loss: 1.2786, train acc: 0.8291\n"
     ]
    },
    {
     "name": "stderr",
     "output_type": "stream",
     "text": [
      " 90%|█████████ | 90/100 [1:39:44<09:29, 56.93s/it]"
     ]
    },
    {
     "name": "stdout",
     "output_type": "stream",
     "text": [
      "Epoch 90: train loss: 1.2553, train acc: 0.834\n"
     ]
    },
    {
     "name": "stderr",
     "output_type": "stream",
     "text": [
      " 91%|█████████ | 91/100 [1:40:41<08:32, 56.91s/it]"
     ]
    },
    {
     "name": "stdout",
     "output_type": "stream",
     "text": [
      "Epoch 91: train loss: 1.2561, train acc: 0.8298\n"
     ]
    },
    {
     "name": "stderr",
     "output_type": "stream",
     "text": [
      " 92%|█████████▏| 92/100 [1:41:38<07:36, 57.07s/it]"
     ]
    },
    {
     "name": "stdout",
     "output_type": "stream",
     "text": [
      "Epoch 92: train loss: 1.2681, train acc: 0.8311\n"
     ]
    },
    {
     "name": "stderr",
     "output_type": "stream",
     "text": [
      " 93%|█████████▎| 93/100 [1:42:35<06:39, 57.03s/it]"
     ]
    },
    {
     "name": "stdout",
     "output_type": "stream",
     "text": [
      "Epoch 93: train loss: 1.2548, train acc: 0.8325\n"
     ]
    },
    {
     "name": "stderr",
     "output_type": "stream",
     "text": [
      " 94%|█████████▍| 94/100 [1:43:33<05:42, 57.14s/it]"
     ]
    },
    {
     "name": "stdout",
     "output_type": "stream",
     "text": [
      "Epoch 94: train loss: 1.2702, train acc: 0.8277\n"
     ]
    },
    {
     "name": "stderr",
     "output_type": "stream",
     "text": [
      " 95%|█████████▌| 95/100 [1:44:29<04:45, 57.07s/it]"
     ]
    },
    {
     "name": "stdout",
     "output_type": "stream",
     "text": [
      "Epoch 95: train loss: 1.2609, train acc: 0.8295\n"
     ]
    },
    {
     "name": "stderr",
     "output_type": "stream",
     "text": [
      " 96%|█████████▌| 96/100 [1:45:27<03:48, 57.13s/it]"
     ]
    },
    {
     "name": "stdout",
     "output_type": "stream",
     "text": [
      "Epoch 96: train loss: 1.2556, train acc: 0.8328\n"
     ]
    },
    {
     "name": "stderr",
     "output_type": "stream",
     "text": [
      " 97%|█████████▋| 97/100 [1:46:24<02:51, 57.30s/it]"
     ]
    },
    {
     "name": "stdout",
     "output_type": "stream",
     "text": [
      "Epoch 97: train loss: 1.2564, train acc: 0.831\n"
     ]
    },
    {
     "name": "stderr",
     "output_type": "stream",
     "text": [
      " 98%|█████████▊| 98/100 [1:47:21<01:54, 57.18s/it]"
     ]
    },
    {
     "name": "stdout",
     "output_type": "stream",
     "text": [
      "Epoch 98: train loss: 1.2577, train acc: 0.8309\n"
     ]
    },
    {
     "name": "stderr",
     "output_type": "stream",
     "text": [
      " 99%|█████████▉| 99/100 [1:48:19<00:57, 57.34s/it]"
     ]
    },
    {
     "name": "stdout",
     "output_type": "stream",
     "text": [
      "Epoch 99: train loss: 1.2605, train acc: 0.8322\n"
     ]
    },
    {
     "name": "stderr",
     "output_type": "stream",
     "text": [
      "100%|██████████| 100/100 [1:49:16<00:00, 65.56s/it]"
     ]
    },
    {
     "name": "stdout",
     "output_type": "stream",
     "text": [
      "Epoch 100: train loss: 1.2647, train acc: 0.8289\n"
     ]
    },
    {
     "name": "stderr",
     "output_type": "stream",
     "text": [
      "\n"
     ]
    }
   ],
   "source": [
    "train_loss, train_acc = training_loop(EPOCHS, new_model, train_dataloader, criterion_cls,criterion_bbox,scheduler)"
   ]
  },
  {
   "cell_type": "code",
   "execution_count": 45,
   "id": "7041251c",
   "metadata": {},
   "outputs": [],
   "source": [
    "def valid_loop(epochs, model, valid_loader, criterion_cls, criterion_bbox,alpha=1.0, beta=1.0 ,best_loss=np.inf,num_points=1024):\n",
    "        \"\"\"\n",
    "        Hàm đánh giá mô hình PointNet++ với dữ liệu point cloud từ KITTI.\n",
    "        \"\"\"\n",
    "        for epoch in tqdm(range(epochs)):\n",
    "            epoch_test_loss = []\n",
    "            correct = 0\n",
    "            total = 0\n",
    "            for batch in valid_loader:\n",
    "                pos , labels , bbox = batch['pos'],batch['label'],batch['bbox']\n",
    "                pos= pos.to(device)\n",
    "                labels = labels.to(device)\n",
    "                bbox = bbox.to(device)\n",
    "                model.eval()\n",
    "                with torch.no_grad():\n",
    "                    optimizer.zero_grad()\n",
    "                    class_logits, bbox_preds = model(pos)\n",
    "                    loss_cls = criterion_cls(class_logits, labels)\n",
    "                    loss_bbox = criterion_bbox(bbox_preds, bbox)\n",
    "                    loss = alpha * loss_cls + beta * loss_bbox\n",
    "\n",
    "                    epoch_test_loss.append(loss.item())\n",
    "\n",
    "                    _,predicted = torch.max(class_logits, 1)\n",
    "                    correct += (predicted == labels).sum().item()\n",
    "                    total += labels.size(0)\n",
    "            avg_loss = np.mean(epoch_test_loss)\n",
    "            epoch_acc = correct / total if total > 0 else 0\n",
    "\n",
    "            print(f'Epoch {epoch}: val loss: {round(avg_loss, 4)}, val accuracy: {round(epoch_acc, 4)}')\n",
    "\n",
    "            if avg_loss < best_loss:\n",
    "                state = {\n",
    "                    'model': model.state_dict(),\n",
    "                    'optimizer': optimizer.state_dict(),\n",
    "                    'epoch': epoch,\n",
    "                     'val_loss': avg_loss,\n",
    "                }\n",
    "                torch.save(state, os.path.join('/root/PointNet2-for-3D-detection/checkpoints', f'3DKitti_checkpoint_{num_points}_1.pth'))\n",
    "                best_loss = avg_loss\n",
    "\n",
    "            test_loss.append(avg_loss)\n",
    "            test_acc.append(epoch_acc)\n",
    "        return test_loss, test_acc"
   ]
  },
  {
   "cell_type": "code",
   "execution_count": 46,
   "id": "ac4df81d",
   "metadata": {},
   "outputs": [
    {
     "name": "stderr",
     "output_type": "stream",
     "text": [
      "  1%|          | 1/100 [00:05<09:33,  5.79s/it]"
     ]
    },
    {
     "name": "stdout",
     "output_type": "stream",
     "text": [
      "Epoch 0: val loss: 0.772, val accuracy: 0.9322\n"
     ]
    },
    {
     "name": "stderr",
     "output_type": "stream",
     "text": [
      "  2%|▏         | 2/100 [00:11<09:03,  5.55s/it]"
     ]
    },
    {
     "name": "stdout",
     "output_type": "stream",
     "text": [
      "Epoch 1: val loss: 0.764, val accuracy: 0.9363\n"
     ]
    },
    {
     "name": "stderr",
     "output_type": "stream",
     "text": [
      "  3%|▎         | 3/100 [00:16<08:49,  5.46s/it]"
     ]
    },
    {
     "name": "stdout",
     "output_type": "stream",
     "text": [
      "Epoch 2: val loss: 0.7606, val accuracy: 0.9334\n"
     ]
    },
    {
     "name": "stderr",
     "output_type": "stream",
     "text": [
      "  4%|▍         | 4/100 [00:21<08:41,  5.43s/it]"
     ]
    },
    {
     "name": "stdout",
     "output_type": "stream",
     "text": [
      "Epoch 3: val loss: 0.7717, val accuracy: 0.933\n"
     ]
    },
    {
     "name": "stderr",
     "output_type": "stream",
     "text": [
      "  5%|▌         | 5/100 [00:27<08:31,  5.39s/it]"
     ]
    },
    {
     "name": "stdout",
     "output_type": "stream",
     "text": [
      "Epoch 4: val loss: 0.7737, val accuracy: 0.9317\n"
     ]
    },
    {
     "name": "stderr",
     "output_type": "stream",
     "text": [
      "  6%|▌         | 6/100 [00:32<08:25,  5.38s/it]"
     ]
    },
    {
     "name": "stdout",
     "output_type": "stream",
     "text": [
      "Epoch 5: val loss: 0.7705, val accuracy: 0.9326\n"
     ]
    },
    {
     "name": "stderr",
     "output_type": "stream",
     "text": [
      "  7%|▋         | 7/100 [00:37<08:17,  5.35s/it]"
     ]
    },
    {
     "name": "stdout",
     "output_type": "stream",
     "text": [
      "Epoch 6: val loss: 0.7627, val accuracy: 0.9375\n"
     ]
    },
    {
     "name": "stderr",
     "output_type": "stream",
     "text": [
      "  8%|▊         | 8/100 [00:43<08:16,  5.40s/it]"
     ]
    },
    {
     "name": "stdout",
     "output_type": "stream",
     "text": [
      "Epoch 7: val loss: 0.7579, val accuracy: 0.9317\n"
     ]
    },
    {
     "name": "stderr",
     "output_type": "stream",
     "text": [
      "  9%|▉         | 9/100 [00:49<08:19,  5.49s/it]"
     ]
    },
    {
     "name": "stdout",
     "output_type": "stream",
     "text": [
      "Epoch 8: val loss: 0.766, val accuracy: 0.9317\n"
     ]
    },
    {
     "name": "stderr",
     "output_type": "stream",
     "text": [
      " 10%|█         | 10/100 [00:54<08:07,  5.42s/it]"
     ]
    },
    {
     "name": "stdout",
     "output_type": "stream",
     "text": [
      "Epoch 9: val loss: 0.759, val accuracy: 0.9301\n"
     ]
    },
    {
     "name": "stderr",
     "output_type": "stream",
     "text": [
      " 11%|█         | 11/100 [00:59<07:56,  5.36s/it]"
     ]
    },
    {
     "name": "stdout",
     "output_type": "stream",
     "text": [
      "Epoch 10: val loss: 0.7743, val accuracy: 0.935\n"
     ]
    },
    {
     "name": "stderr",
     "output_type": "stream",
     "text": [
      " 12%|█▏        | 12/100 [01:04<07:48,  5.32s/it]"
     ]
    },
    {
     "name": "stdout",
     "output_type": "stream",
     "text": [
      "Epoch 11: val loss: 0.766, val accuracy: 0.9326\n"
     ]
    },
    {
     "name": "stderr",
     "output_type": "stream",
     "text": [
      " 13%|█▎        | 13/100 [01:10<07:40,  5.30s/it]"
     ]
    },
    {
     "name": "stdout",
     "output_type": "stream",
     "text": [
      "Epoch 12: val loss: 0.7669, val accuracy: 0.9334\n"
     ]
    },
    {
     "name": "stderr",
     "output_type": "stream",
     "text": [
      " 14%|█▍        | 14/100 [01:15<07:33,  5.28s/it]"
     ]
    },
    {
     "name": "stdout",
     "output_type": "stream",
     "text": [
      "Epoch 13: val loss: 0.7764, val accuracy: 0.9338\n"
     ]
    },
    {
     "name": "stderr",
     "output_type": "stream",
     "text": [
      " 15%|█▌        | 15/100 [01:20<07:27,  5.27s/it]"
     ]
    },
    {
     "name": "stdout",
     "output_type": "stream",
     "text": [
      "Epoch 14: val loss: 0.768, val accuracy: 0.9285\n"
     ]
    },
    {
     "name": "stderr",
     "output_type": "stream",
     "text": [
      " 16%|█▌        | 16/100 [01:25<07:22,  5.27s/it]"
     ]
    },
    {
     "name": "stdout",
     "output_type": "stream",
     "text": [
      "Epoch 15: val loss: 0.7688, val accuracy: 0.9346\n"
     ]
    },
    {
     "name": "stderr",
     "output_type": "stream",
     "text": [
      " 17%|█▋        | 17/100 [01:31<07:17,  5.27s/it]"
     ]
    },
    {
     "name": "stdout",
     "output_type": "stream",
     "text": [
      "Epoch 16: val loss: 0.7674, val accuracy: 0.9317\n"
     ]
    },
    {
     "name": "stderr",
     "output_type": "stream",
     "text": [
      " 18%|█▊        | 18/100 [01:36<07:11,  5.26s/it]"
     ]
    },
    {
     "name": "stdout",
     "output_type": "stream",
     "text": [
      "Epoch 17: val loss: 0.7695, val accuracy: 0.9322\n"
     ]
    },
    {
     "name": "stderr",
     "output_type": "stream",
     "text": [
      " 19%|█▉        | 19/100 [01:41<07:06,  5.26s/it]"
     ]
    },
    {
     "name": "stdout",
     "output_type": "stream",
     "text": [
      "Epoch 18: val loss: 0.7733, val accuracy: 0.9313\n"
     ]
    },
    {
     "name": "stderr",
     "output_type": "stream",
     "text": [
      " 20%|██        | 20/100 [01:47<07:08,  5.35s/it]"
     ]
    },
    {
     "name": "stdout",
     "output_type": "stream",
     "text": [
      "Epoch 19: val loss: 0.7667, val accuracy: 0.933\n"
     ]
    },
    {
     "name": "stderr",
     "output_type": "stream",
     "text": [
      " 21%|██        | 21/100 [01:52<07:00,  5.33s/it]"
     ]
    },
    {
     "name": "stdout",
     "output_type": "stream",
     "text": [
      "Epoch 20: val loss: 0.7748, val accuracy: 0.9305\n"
     ]
    },
    {
     "name": "stderr",
     "output_type": "stream",
     "text": [
      " 22%|██▏       | 22/100 [01:57<06:54,  5.32s/it]"
     ]
    },
    {
     "name": "stdout",
     "output_type": "stream",
     "text": [
      "Epoch 21: val loss: 0.7737, val accuracy: 0.9379\n"
     ]
    },
    {
     "name": "stderr",
     "output_type": "stream",
     "text": [
      " 23%|██▎       | 23/100 [02:02<06:48,  5.31s/it]"
     ]
    },
    {
     "name": "stdout",
     "output_type": "stream",
     "text": [
      "Epoch 22: val loss: 0.768, val accuracy: 0.933\n"
     ]
    },
    {
     "name": "stderr",
     "output_type": "stream",
     "text": [
      " 24%|██▍       | 24/100 [02:08<06:42,  5.29s/it]"
     ]
    },
    {
     "name": "stdout",
     "output_type": "stream",
     "text": [
      "Epoch 23: val loss: 0.7646, val accuracy: 0.9346\n"
     ]
    },
    {
     "name": "stderr",
     "output_type": "stream",
     "text": [
      " 25%|██▌       | 25/100 [02:13<06:36,  5.28s/it]"
     ]
    },
    {
     "name": "stdout",
     "output_type": "stream",
     "text": [
      "Epoch 24: val loss: 0.7748, val accuracy: 0.935\n"
     ]
    },
    {
     "name": "stderr",
     "output_type": "stream",
     "text": [
      " 26%|██▌       | 26/100 [02:18<06:31,  5.29s/it]"
     ]
    },
    {
     "name": "stdout",
     "output_type": "stream",
     "text": [
      "Epoch 25: val loss: 0.7692, val accuracy: 0.933\n"
     ]
    },
    {
     "name": "stderr",
     "output_type": "stream",
     "text": [
      " 27%|██▋       | 27/100 [02:23<06:24,  5.27s/it]"
     ]
    },
    {
     "name": "stdout",
     "output_type": "stream",
     "text": [
      "Epoch 26: val loss: 0.7765, val accuracy: 0.9322\n"
     ]
    },
    {
     "name": "stderr",
     "output_type": "stream",
     "text": [
      " 28%|██▊       | 28/100 [02:29<06:18,  5.26s/it]"
     ]
    },
    {
     "name": "stdout",
     "output_type": "stream",
     "text": [
      "Epoch 27: val loss: 0.7584, val accuracy: 0.9363\n"
     ]
    },
    {
     "name": "stderr",
     "output_type": "stream",
     "text": [
      " 29%|██▉       | 29/100 [02:34<06:13,  5.26s/it]"
     ]
    },
    {
     "name": "stdout",
     "output_type": "stream",
     "text": [
      "Epoch 28: val loss: 0.7619, val accuracy: 0.9301\n"
     ]
    },
    {
     "name": "stderr",
     "output_type": "stream",
     "text": [
      " 30%|███       | 30/100 [02:39<06:07,  5.25s/it]"
     ]
    },
    {
     "name": "stdout",
     "output_type": "stream",
     "text": [
      "Epoch 29: val loss: 0.7678, val accuracy: 0.933\n"
     ]
    },
    {
     "name": "stderr",
     "output_type": "stream",
     "text": [
      " 31%|███       | 31/100 [02:44<06:02,  5.26s/it]"
     ]
    },
    {
     "name": "stdout",
     "output_type": "stream",
     "text": [
      "Epoch 30: val loss: 0.7669, val accuracy: 0.9354\n"
     ]
    },
    {
     "name": "stderr",
     "output_type": "stream",
     "text": [
      " 32%|███▏      | 32/100 [02:50<05:56,  5.25s/it]"
     ]
    },
    {
     "name": "stdout",
     "output_type": "stream",
     "text": [
      "Epoch 31: val loss: 0.7785, val accuracy: 0.9326\n"
     ]
    },
    {
     "name": "stderr",
     "output_type": "stream",
     "text": [
      " 33%|███▎      | 33/100 [02:55<05:51,  5.25s/it]"
     ]
    },
    {
     "name": "stdout",
     "output_type": "stream",
     "text": [
      "Epoch 32: val loss: 0.7635, val accuracy: 0.9309\n"
     ]
    },
    {
     "name": "stderr",
     "output_type": "stream",
     "text": [
      " 34%|███▍      | 34/100 [03:00<05:46,  5.24s/it]"
     ]
    },
    {
     "name": "stdout",
     "output_type": "stream",
     "text": [
      "Epoch 33: val loss: 0.7689, val accuracy: 0.9338\n"
     ]
    },
    {
     "name": "stderr",
     "output_type": "stream",
     "text": [
      " 35%|███▌      | 35/100 [03:05<05:41,  5.25s/it]"
     ]
    },
    {
     "name": "stdout",
     "output_type": "stream",
     "text": [
      "Epoch 34: val loss: 0.7555, val accuracy: 0.9342\n"
     ]
    },
    {
     "name": "stderr",
     "output_type": "stream",
     "text": [
      " 36%|███▌      | 36/100 [03:11<05:35,  5.25s/it]"
     ]
    },
    {
     "name": "stdout",
     "output_type": "stream",
     "text": [
      "Epoch 35: val loss: 0.7665, val accuracy: 0.9334\n"
     ]
    },
    {
     "name": "stderr",
     "output_type": "stream",
     "text": [
      " 37%|███▋      | 37/100 [03:16<05:30,  5.25s/it]"
     ]
    },
    {
     "name": "stdout",
     "output_type": "stream",
     "text": [
      "Epoch 36: val loss: 0.7586, val accuracy: 0.9387\n"
     ]
    },
    {
     "name": "stderr",
     "output_type": "stream",
     "text": [
      " 38%|███▊      | 38/100 [03:21<05:26,  5.26s/it]"
     ]
    },
    {
     "name": "stdout",
     "output_type": "stream",
     "text": [
      "Epoch 37: val loss: 0.759, val accuracy: 0.9363\n"
     ]
    },
    {
     "name": "stderr",
     "output_type": "stream",
     "text": [
      " 39%|███▉      | 39/100 [03:27<05:20,  5.26s/it]"
     ]
    },
    {
     "name": "stdout",
     "output_type": "stream",
     "text": [
      "Epoch 38: val loss: 0.7727, val accuracy: 0.9342\n"
     ]
    },
    {
     "name": "stderr",
     "output_type": "stream",
     "text": [
      " 40%|████      | 40/100 [03:32<05:15,  5.27s/it]"
     ]
    },
    {
     "name": "stdout",
     "output_type": "stream",
     "text": [
      "Epoch 39: val loss: 0.7732, val accuracy: 0.9338\n"
     ]
    },
    {
     "name": "stderr",
     "output_type": "stream",
     "text": [
      " 41%|████      | 41/100 [03:37<05:10,  5.27s/it]"
     ]
    },
    {
     "name": "stdout",
     "output_type": "stream",
     "text": [
      "Epoch 40: val loss: 0.7747, val accuracy: 0.9301\n"
     ]
    },
    {
     "name": "stderr",
     "output_type": "stream",
     "text": [
      " 42%|████▏     | 42/100 [03:42<05:05,  5.27s/it]"
     ]
    },
    {
     "name": "stdout",
     "output_type": "stream",
     "text": [
      "Epoch 41: val loss: 0.759, val accuracy: 0.9334\n"
     ]
    },
    {
     "name": "stderr",
     "output_type": "stream",
     "text": [
      " 43%|████▎     | 43/100 [03:48<04:59,  5.26s/it]"
     ]
    },
    {
     "name": "stdout",
     "output_type": "stream",
     "text": [
      "Epoch 42: val loss: 0.7661, val accuracy: 0.9354\n"
     ]
    },
    {
     "name": "stderr",
     "output_type": "stream",
     "text": [
      " 44%|████▍     | 44/100 [03:53<04:54,  5.26s/it]"
     ]
    },
    {
     "name": "stdout",
     "output_type": "stream",
     "text": [
      "Epoch 43: val loss: 0.7781, val accuracy: 0.9322\n"
     ]
    },
    {
     "name": "stderr",
     "output_type": "stream",
     "text": [
      " 45%|████▌     | 45/100 [03:58<04:49,  5.26s/it]"
     ]
    },
    {
     "name": "stdout",
     "output_type": "stream",
     "text": [
      "Epoch 44: val loss: 0.7724, val accuracy: 0.933\n"
     ]
    },
    {
     "name": "stderr",
     "output_type": "stream",
     "text": [
      " 46%|████▌     | 46/100 [04:03<04:43,  5.26s/it]"
     ]
    },
    {
     "name": "stdout",
     "output_type": "stream",
     "text": [
      "Epoch 45: val loss: 0.7663, val accuracy: 0.933\n"
     ]
    },
    {
     "name": "stderr",
     "output_type": "stream",
     "text": [
      " 47%|████▋     | 47/100 [04:09<04:38,  5.25s/it]"
     ]
    },
    {
     "name": "stdout",
     "output_type": "stream",
     "text": [
      "Epoch 46: val loss: 0.7654, val accuracy: 0.9363\n"
     ]
    },
    {
     "name": "stderr",
     "output_type": "stream",
     "text": [
      " 48%|████▊     | 48/100 [04:14<04:32,  5.24s/it]"
     ]
    },
    {
     "name": "stdout",
     "output_type": "stream",
     "text": [
      "Epoch 47: val loss: 0.7602, val accuracy: 0.9309\n"
     ]
    },
    {
     "name": "stderr",
     "output_type": "stream",
     "text": [
      " 49%|████▉     | 49/100 [04:19<04:28,  5.27s/it]"
     ]
    },
    {
     "name": "stdout",
     "output_type": "stream",
     "text": [
      "Epoch 48: val loss: 0.7753, val accuracy: 0.9346\n"
     ]
    },
    {
     "name": "stderr",
     "output_type": "stream",
     "text": [
      " 50%|█████     | 50/100 [04:24<04:22,  5.25s/it]"
     ]
    },
    {
     "name": "stdout",
     "output_type": "stream",
     "text": [
      "Epoch 49: val loss: 0.7582, val accuracy: 0.9371\n"
     ]
    },
    {
     "name": "stderr",
     "output_type": "stream",
     "text": [
      " 51%|█████     | 51/100 [04:30<04:17,  5.25s/it]"
     ]
    },
    {
     "name": "stdout",
     "output_type": "stream",
     "text": [
      "Epoch 50: val loss: 0.7788, val accuracy: 0.9342\n"
     ]
    },
    {
     "name": "stderr",
     "output_type": "stream",
     "text": [
      " 52%|█████▏    | 52/100 [04:35<04:12,  5.25s/it]"
     ]
    },
    {
     "name": "stdout",
     "output_type": "stream",
     "text": [
      "Epoch 51: val loss: 0.7628, val accuracy: 0.9363\n"
     ]
    },
    {
     "name": "stderr",
     "output_type": "stream",
     "text": [
      " 53%|█████▎    | 53/100 [04:40<04:06,  5.25s/it]"
     ]
    },
    {
     "name": "stdout",
     "output_type": "stream",
     "text": [
      "Epoch 52: val loss: 0.7728, val accuracy: 0.9342\n"
     ]
    },
    {
     "name": "stderr",
     "output_type": "stream",
     "text": [
      " 54%|█████▍    | 54/100 [04:45<04:01,  5.25s/it]"
     ]
    },
    {
     "name": "stdout",
     "output_type": "stream",
     "text": [
      "Epoch 53: val loss: 0.7625, val accuracy: 0.9371\n"
     ]
    },
    {
     "name": "stderr",
     "output_type": "stream",
     "text": [
      " 55%|█████▌    | 55/100 [04:51<03:56,  5.26s/it]"
     ]
    },
    {
     "name": "stdout",
     "output_type": "stream",
     "text": [
      "Epoch 54: val loss: 0.7776, val accuracy: 0.9309\n"
     ]
    },
    {
     "name": "stderr",
     "output_type": "stream",
     "text": [
      " 56%|█████▌    | 56/100 [04:56<03:52,  5.29s/it]"
     ]
    },
    {
     "name": "stdout",
     "output_type": "stream",
     "text": [
      "Epoch 55: val loss: 0.7726, val accuracy: 0.9334\n"
     ]
    },
    {
     "name": "stderr",
     "output_type": "stream",
     "text": [
      " 57%|█████▋    | 57/100 [05:01<03:46,  5.28s/it]"
     ]
    },
    {
     "name": "stdout",
     "output_type": "stream",
     "text": [
      "Epoch 56: val loss: 0.7626, val accuracy: 0.9367\n"
     ]
    },
    {
     "name": "stderr",
     "output_type": "stream",
     "text": [
      " 58%|█████▊    | 58/100 [05:06<03:41,  5.27s/it]"
     ]
    },
    {
     "name": "stdout",
     "output_type": "stream",
     "text": [
      "Epoch 57: val loss: 0.7601, val accuracy: 0.9367\n"
     ]
    },
    {
     "name": "stderr",
     "output_type": "stream",
     "text": [
      " 59%|█████▉    | 59/100 [05:12<03:38,  5.33s/it]"
     ]
    },
    {
     "name": "stdout",
     "output_type": "stream",
     "text": [
      "Epoch 58: val loss: 0.7728, val accuracy: 0.933\n"
     ]
    },
    {
     "name": "stderr",
     "output_type": "stream",
     "text": [
      " 60%|██████    | 60/100 [05:17<03:32,  5.30s/it]"
     ]
    },
    {
     "name": "stdout",
     "output_type": "stream",
     "text": [
      "Epoch 59: val loss: 0.7674, val accuracy: 0.9334\n"
     ]
    },
    {
     "name": "stderr",
     "output_type": "stream",
     "text": [
      " 61%|██████    | 61/100 [05:22<03:25,  5.28s/it]"
     ]
    },
    {
     "name": "stdout",
     "output_type": "stream",
     "text": [
      "Epoch 60: val loss: 0.7716, val accuracy: 0.9387\n"
     ]
    },
    {
     "name": "stderr",
     "output_type": "stream",
     "text": [
      " 62%|██████▏   | 62/100 [05:28<03:20,  5.27s/it]"
     ]
    },
    {
     "name": "stdout",
     "output_type": "stream",
     "text": [
      "Epoch 61: val loss: 0.774, val accuracy: 0.9359\n"
     ]
    },
    {
     "name": "stderr",
     "output_type": "stream",
     "text": [
      " 63%|██████▎   | 63/100 [05:33<03:14,  5.27s/it]"
     ]
    },
    {
     "name": "stdout",
     "output_type": "stream",
     "text": [
      "Epoch 62: val loss: 0.7669, val accuracy: 0.9371\n"
     ]
    },
    {
     "name": "stderr",
     "output_type": "stream",
     "text": [
      " 64%|██████▍   | 64/100 [05:38<03:09,  5.26s/it]"
     ]
    },
    {
     "name": "stdout",
     "output_type": "stream",
     "text": [
      "Epoch 63: val loss: 0.7642, val accuracy: 0.9322\n"
     ]
    },
    {
     "name": "stderr",
     "output_type": "stream",
     "text": [
      " 65%|██████▌   | 65/100 [05:43<03:03,  5.25s/it]"
     ]
    },
    {
     "name": "stdout",
     "output_type": "stream",
     "text": [
      "Epoch 64: val loss: 0.7685, val accuracy: 0.9367\n"
     ]
    },
    {
     "name": "stderr",
     "output_type": "stream",
     "text": [
      " 66%|██████▌   | 66/100 [05:49<02:58,  5.26s/it]"
     ]
    },
    {
     "name": "stdout",
     "output_type": "stream",
     "text": [
      "Epoch 65: val loss: 0.7671, val accuracy: 0.9346\n"
     ]
    },
    {
     "name": "stderr",
     "output_type": "stream",
     "text": [
      " 67%|██████▋   | 67/100 [05:54<02:53,  5.27s/it]"
     ]
    },
    {
     "name": "stdout",
     "output_type": "stream",
     "text": [
      "Epoch 66: val loss: 0.7644, val accuracy: 0.9396\n"
     ]
    },
    {
     "name": "stderr",
     "output_type": "stream",
     "text": [
      " 68%|██████▊   | 68/100 [05:59<02:48,  5.28s/it]"
     ]
    },
    {
     "name": "stdout",
     "output_type": "stream",
     "text": [
      "Epoch 67: val loss: 0.7743, val accuracy: 0.933\n"
     ]
    },
    {
     "name": "stderr",
     "output_type": "stream",
     "text": [
      " 69%|██████▉   | 69/100 [06:05<02:43,  5.29s/it]"
     ]
    },
    {
     "name": "stdout",
     "output_type": "stream",
     "text": [
      "Epoch 68: val loss: 0.7758, val accuracy: 0.9309\n"
     ]
    },
    {
     "name": "stderr",
     "output_type": "stream",
     "text": [
      " 70%|███████   | 70/100 [06:10<02:38,  5.28s/it]"
     ]
    },
    {
     "name": "stdout",
     "output_type": "stream",
     "text": [
      "Epoch 69: val loss: 0.7691, val accuracy: 0.9359\n"
     ]
    },
    {
     "name": "stderr",
     "output_type": "stream",
     "text": [
      " 71%|███████   | 71/100 [06:15<02:33,  5.29s/it]"
     ]
    },
    {
     "name": "stdout",
     "output_type": "stream",
     "text": [
      "Epoch 70: val loss: 0.7671, val accuracy: 0.9322\n"
     ]
    },
    {
     "name": "stderr",
     "output_type": "stream",
     "text": [
      " 72%|███████▏  | 72/100 [06:20<02:27,  5.28s/it]"
     ]
    },
    {
     "name": "stdout",
     "output_type": "stream",
     "text": [
      "Epoch 71: val loss: 0.7572, val accuracy: 0.9322\n"
     ]
    },
    {
     "name": "stderr",
     "output_type": "stream",
     "text": [
      " 73%|███████▎  | 73/100 [06:26<02:22,  5.28s/it]"
     ]
    },
    {
     "name": "stdout",
     "output_type": "stream",
     "text": [
      "Epoch 72: val loss: 0.7692, val accuracy: 0.9322\n"
     ]
    },
    {
     "name": "stderr",
     "output_type": "stream",
     "text": [
      " 74%|███████▍  | 74/100 [06:31<02:17,  5.28s/it]"
     ]
    },
    {
     "name": "stdout",
     "output_type": "stream",
     "text": [
      "Epoch 73: val loss: 0.7755, val accuracy: 0.9317\n"
     ]
    },
    {
     "name": "stderr",
     "output_type": "stream",
     "text": [
      " 75%|███████▌  | 75/100 [06:36<02:12,  5.29s/it]"
     ]
    },
    {
     "name": "stdout",
     "output_type": "stream",
     "text": [
      "Epoch 74: val loss: 0.7683, val accuracy: 0.9334\n"
     ]
    },
    {
     "name": "stderr",
     "output_type": "stream",
     "text": [
      " 76%|███████▌  | 76/100 [06:42<02:06,  5.29s/it]"
     ]
    },
    {
     "name": "stdout",
     "output_type": "stream",
     "text": [
      "Epoch 75: val loss: 0.7694, val accuracy: 0.933\n"
     ]
    },
    {
     "name": "stderr",
     "output_type": "stream",
     "text": [
      " 77%|███████▋  | 77/100 [06:47<02:02,  5.32s/it]"
     ]
    },
    {
     "name": "stdout",
     "output_type": "stream",
     "text": [
      "Epoch 76: val loss: 0.7619, val accuracy: 0.9322\n"
     ]
    },
    {
     "name": "stderr",
     "output_type": "stream",
     "text": [
      " 78%|███████▊  | 78/100 [06:52<01:57,  5.33s/it]"
     ]
    },
    {
     "name": "stdout",
     "output_type": "stream",
     "text": [
      "Epoch 77: val loss: 0.7568, val accuracy: 0.9359\n"
     ]
    },
    {
     "name": "stderr",
     "output_type": "stream",
     "text": [
      " 79%|███████▉  | 79/100 [06:58<01:52,  5.34s/it]"
     ]
    },
    {
     "name": "stdout",
     "output_type": "stream",
     "text": [
      "Epoch 78: val loss: 0.7711, val accuracy: 0.9322\n"
     ]
    },
    {
     "name": "stderr",
     "output_type": "stream",
     "text": [
      " 80%|████████  | 80/100 [07:03<01:46,  5.33s/it]"
     ]
    },
    {
     "name": "stdout",
     "output_type": "stream",
     "text": [
      "Epoch 79: val loss: 0.7771, val accuracy: 0.9313\n"
     ]
    },
    {
     "name": "stderr",
     "output_type": "stream",
     "text": [
      " 81%|████████  | 81/100 [07:08<01:41,  5.32s/it]"
     ]
    },
    {
     "name": "stdout",
     "output_type": "stream",
     "text": [
      "Epoch 80: val loss: 0.7789, val accuracy: 0.9301\n"
     ]
    },
    {
     "name": "stderr",
     "output_type": "stream",
     "text": [
      " 82%|████████▏ | 82/100 [07:14<01:35,  5.32s/it]"
     ]
    },
    {
     "name": "stdout",
     "output_type": "stream",
     "text": [
      "Epoch 81: val loss: 0.7581, val accuracy: 0.9354\n"
     ]
    },
    {
     "name": "stderr",
     "output_type": "stream",
     "text": [
      " 83%|████████▎ | 83/100 [07:19<01:30,  5.32s/it]"
     ]
    },
    {
     "name": "stdout",
     "output_type": "stream",
     "text": [
      "Epoch 82: val loss: 0.7545, val accuracy: 0.9391\n"
     ]
    },
    {
     "name": "stderr",
     "output_type": "stream",
     "text": [
      " 84%|████████▍ | 84/100 [07:24<01:25,  5.32s/it]"
     ]
    },
    {
     "name": "stdout",
     "output_type": "stream",
     "text": [
      "Epoch 83: val loss: 0.7707, val accuracy: 0.9354\n"
     ]
    },
    {
     "name": "stderr",
     "output_type": "stream",
     "text": [
      " 85%|████████▌ | 85/100 [07:30<01:19,  5.33s/it]"
     ]
    },
    {
     "name": "stdout",
     "output_type": "stream",
     "text": [
      "Epoch 84: val loss: 0.7653, val accuracy: 0.9317\n"
     ]
    },
    {
     "name": "stderr",
     "output_type": "stream",
     "text": [
      " 86%|████████▌ | 86/100 [07:35<01:14,  5.32s/it]"
     ]
    },
    {
     "name": "stdout",
     "output_type": "stream",
     "text": [
      "Epoch 85: val loss: 0.7756, val accuracy: 0.9305\n"
     ]
    },
    {
     "name": "stderr",
     "output_type": "stream",
     "text": [
      " 87%|████████▋ | 87/100 [07:40<01:09,  5.31s/it]"
     ]
    },
    {
     "name": "stdout",
     "output_type": "stream",
     "text": [
      "Epoch 86: val loss: 0.7717, val accuracy: 0.9301\n"
     ]
    },
    {
     "name": "stderr",
     "output_type": "stream",
     "text": [
      " 88%|████████▊ | 88/100 [07:45<01:03,  5.30s/it]"
     ]
    },
    {
     "name": "stdout",
     "output_type": "stream",
     "text": [
      "Epoch 87: val loss: 0.7704, val accuracy: 0.9338\n"
     ]
    },
    {
     "name": "stderr",
     "output_type": "stream",
     "text": [
      " 89%|████████▉ | 89/100 [07:51<00:58,  5.30s/it]"
     ]
    },
    {
     "name": "stdout",
     "output_type": "stream",
     "text": [
      "Epoch 88: val loss: 0.7662, val accuracy: 0.9322\n"
     ]
    },
    {
     "name": "stderr",
     "output_type": "stream",
     "text": [
      " 90%|█████████ | 90/100 [07:56<00:53,  5.32s/it]"
     ]
    },
    {
     "name": "stdout",
     "output_type": "stream",
     "text": [
      "Epoch 89: val loss: 0.7721, val accuracy: 0.9354\n"
     ]
    },
    {
     "name": "stderr",
     "output_type": "stream",
     "text": [
      " 91%|█████████ | 91/100 [08:01<00:47,  5.31s/it]"
     ]
    },
    {
     "name": "stdout",
     "output_type": "stream",
     "text": [
      "Epoch 90: val loss: 0.7653, val accuracy: 0.9383\n"
     ]
    },
    {
     "name": "stderr",
     "output_type": "stream",
     "text": [
      " 92%|█████████▏| 92/100 [08:07<00:42,  5.31s/it]"
     ]
    },
    {
     "name": "stdout",
     "output_type": "stream",
     "text": [
      "Epoch 91: val loss: 0.7635, val accuracy: 0.9317\n"
     ]
    },
    {
     "name": "stderr",
     "output_type": "stream",
     "text": [
      " 93%|█████████▎| 93/100 [08:12<00:37,  5.32s/it]"
     ]
    },
    {
     "name": "stdout",
     "output_type": "stream",
     "text": [
      "Epoch 92: val loss: 0.7719, val accuracy: 0.9334\n"
     ]
    },
    {
     "name": "stderr",
     "output_type": "stream",
     "text": [
      " 94%|█████████▍| 94/100 [08:17<00:31,  5.33s/it]"
     ]
    },
    {
     "name": "stdout",
     "output_type": "stream",
     "text": [
      "Epoch 93: val loss: 0.769, val accuracy: 0.9322\n"
     ]
    },
    {
     "name": "stderr",
     "output_type": "stream",
     "text": [
      " 95%|█████████▌| 95/100 [08:23<00:26,  5.32s/it]"
     ]
    },
    {
     "name": "stdout",
     "output_type": "stream",
     "text": [
      "Epoch 94: val loss: 0.76, val accuracy: 0.9346\n"
     ]
    },
    {
     "name": "stderr",
     "output_type": "stream",
     "text": [
      " 96%|█████████▌| 96/100 [08:28<00:21,  5.32s/it]"
     ]
    },
    {
     "name": "stdout",
     "output_type": "stream",
     "text": [
      "Epoch 95: val loss: 0.7525, val accuracy: 0.9338\n"
     ]
    },
    {
     "name": "stderr",
     "output_type": "stream",
     "text": [
      " 97%|█████████▋| 97/100 [08:33<00:15,  5.31s/it]"
     ]
    },
    {
     "name": "stdout",
     "output_type": "stream",
     "text": [
      "Epoch 96: val loss: 0.7696, val accuracy: 0.933\n"
     ]
    },
    {
     "name": "stderr",
     "output_type": "stream",
     "text": [
      " 98%|█████████▊| 98/100 [08:39<00:10,  5.31s/it]"
     ]
    },
    {
     "name": "stdout",
     "output_type": "stream",
     "text": [
      "Epoch 97: val loss: 0.7657, val accuracy: 0.9346\n"
     ]
    },
    {
     "name": "stderr",
     "output_type": "stream",
     "text": [
      " 99%|█████████▉| 99/100 [08:44<00:05,  5.30s/it]"
     ]
    },
    {
     "name": "stdout",
     "output_type": "stream",
     "text": [
      "Epoch 98: val loss: 0.7676, val accuracy: 0.9354\n"
     ]
    },
    {
     "name": "stderr",
     "output_type": "stream",
     "text": [
      "100%|██████████| 100/100 [08:49<00:00,  5.30s/it]"
     ]
    },
    {
     "name": "stdout",
     "output_type": "stream",
     "text": [
      "Epoch 99: val loss: 0.7683, val accuracy: 0.9334\n"
     ]
    },
    {
     "name": "stderr",
     "output_type": "stream",
     "text": [
      "\n"
     ]
    }
   ],
   "source": [
    "test_loss,test_acc = valid_loop(EPOCHS, new_model, val_dataloader, criterion_cls, criterion_bbox,alpha=1.0, beta=1.0 ,best_loss=np.inf,num_points=1024)"
   ]
  },
  {
   "cell_type": "code",
   "execution_count": 47,
   "id": "af856fe0",
   "metadata": {},
   "outputs": [],
   "source": [
    "def plot_losses(train_loss, test_loss, save_to_file=None):\n",
    "    fig = plt.figure()\n",
    "    epochs = len(train_loss)\n",
    "    plt.plot(range(epochs), train_loss, 'b', label='Training loss')\n",
    "    plt.plot(range(epochs), test_loss, 'r', label='Validation loss')\n",
    "    plt.title('Training and validation loss')\n",
    "    plt.legend()\n",
    "    if save_to_file:\n",
    "        fig.savefig(save_to_file,dpi=200)\n",
    "\n",
    "def plot_accuracy(train_acc, test_acc, save_to_file=None):\n",
    "    fig = plt.figure()\n",
    "    epochs = len(train_acc)\n",
    "    plt.plot(range(epochs), train_acc, 'b', label='Training accuracy')\n",
    "    plt.plot(range(epochs), test_acc, 'r', label='Validation accuracy')\n",
    "    plt.title('Training and validation accuracy')\n",
    "    plt.legend()\n",
    "    if save_to_file:\n",
    "        fig.savefig(save_to_file,dpi=200)\n"
   ]
  },
  {
   "cell_type": "code",
   "execution_count": 48,
   "id": "a21e8f18",
   "metadata": {},
   "outputs": [
    {
     "data": {
      "image/png": "[encoded data removed]",
      "text/plain": [
       "<Figure size 640x480 with 1 Axes>"
      ]
     },
     "metadata": {},
     "output_type": "display_data"
    },
    {
     "data": {
      "image/png": "[encoded data removed]",
      "text/plain": [
       "<Figure size 640x480 with 1 Axes>"
      ]
     },
     "metadata": {},
     "output_type": "display_data"
    }
   ],
   "source": [
    "plot_losses(train_loss, test_loss, save_to_file=False)\n",
    "plot_accuracy(train_acc, test_acc, save_to_file=False)"
   ]
  },
  {
   "cell_type": "code",
   "execution_count": 60,
   "id": "18e4c52b",
   "metadata": {},
   "outputs": [
    {
     "data": {
      "text/plain": [
       "<Figure size 1000x1000 with 0 Axes>"
      ]
     },
     "metadata": {},
     "output_type": "display_data"
    },
    {
     "data": {
      "image/png": "[encoded data removed]",
      "text/plain": [
       "<Figure size 640x480 with 2 Axes>"
      ]
     },
     "metadata": {},
     "output_type": "display_data"
    },
    {
     "name": "stdout",
     "output_type": "stream",
     "text": [
      "Classification Report:\n",
      "                precision    recall  f1-score   support\n",
      "\n",
      "           Car       0.95      0.99      0.97      3427\n",
      "       Cyclist       0.92      0.93      0.92       175\n",
      "          Misc       0.75      0.58      0.66       105\n",
      "    Pedestrian       0.97      0.99      0.98       632\n",
      "Person_sitting       0.92      0.68      0.78        34\n",
      "          Tram       0.00      0.00      0.00        57\n",
      "         Truck       0.86      0.84      0.85       153\n",
      "           Van       0.84      0.69      0.76       359\n",
      "\n",
      "      accuracy                           0.94      4942\n",
      "     macro avg       0.78      0.71      0.74      4942\n",
      "  weighted avg       0.92      0.94      0.93      4942\n",
      "\n"
     ]
    },
    {
     "name": "stderr",
     "output_type": "stream",
     "text": [
      "/root/.venv/lib/python3.10/site-packages/sklearn/metrics/_classification.py:1731: UndefinedMetricWarning: Precision is ill-defined and being set to 0.0 in labels with no predicted samples. Use `zero_division` parameter to control this behavior.\n",
      "  _warn_prf(average, modifier, f\"{metric.capitalize()} is\", result.shape[0])\n",
      "/root/.venv/lib/python3.10/site-packages/sklearn/metrics/_classification.py:1731: UndefinedMetricWarning: Precision is ill-defined and being set to 0.0 in labels with no predicted samples. Use `zero_division` parameter to control this behavior.\n",
      "  _warn_prf(average, modifier, f\"{metric.capitalize()} is\", result.shape[0])\n",
      "/root/.venv/lib/python3.10/site-packages/sklearn/metrics/_classification.py:1731: UndefinedMetricWarning: Precision is ill-defined and being set to 0.0 in labels with no predicted samples. Use `zero_division` parameter to control this behavior.\n",
      "  _warn_prf(average, modifier, f\"{metric.capitalize()} is\", result.shape[0])\n"
     ]
    }
   ],
   "source": [
    "import matplotlib.pyplot as plt\n",
    "from sklearn.metrics import confusion_matrix, ConfusionMatrixDisplay, classification_report\n",
    "import numpy as np\n",
    "y_true = []\n",
    "y_pred = []\n",
    "\n",
    "new_model.eval()\n",
    "with torch.no_grad():\n",
    "    for batch in test_dataloader:\n",
    "        pos = batch['pos'].to(device)\n",
    "        labels = batch['label'].to(device) # Chuyển về numpy để lưu trữ\n",
    "\n",
    "        class_logits, _ = new_model(pos)\n",
    "        _,predicted = torch.max(class_logits, 1)\n",
    "\n",
    "        y_true.extend(labels.cpu().tolist())   # convert to list of ints\n",
    "        y_pred.extend(predicted.cpu().tolist())  # convert to list of ints\n",
    "\n",
    "\n",
    "\n",
    "cm = confusion_matrix(y_true, y_pred)\n",
    "disp = ConfusionMatrixDisplay(confusion_matrix=cm, display_labels=list(label_to_id.keys()))\n",
    "\n",
    "# Vẽ confusion matrix\n",
    "plt.figure(figsize=(10, 10))\n",
    "disp.plot(cmap=plt.cm.Blues, xticks_rotation=45)\n",
    "plt.title(\"Confusion Matrix\")\n",
    "plt.grid(False)\n",
    "plt.tight_layout()\n",
    "plt.show()\n",
    "\n",
    "# Classification Report\n",
    "print(\"Classification Report:\")\n",
    "print(classification_report(y_true, y_pred, target_names=list(label_to_id.keys())))\n"
   ]
  }
 ],
 "metadata": {
  "kernelspec": {
   "display_name": ".venv",
   "language": "python",
   "name": "python3"
  },
  "language_info": {
   "codemirror_mode": {
    "name": "ipython",
    "version": 3
   },
   "file_extension": ".py",
   "mimetype": "text/x-python",
   "name": "python",
   "nbconvert_exporter": "python",
   "pygments_lexer": "ipython3",
   "version": "3.11.1"
  }
 },
 "nbformat": 4,
 "nbformat_minor": 5
}
