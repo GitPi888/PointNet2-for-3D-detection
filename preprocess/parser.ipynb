{
 "cells": [
  {
   "cell_type": "code",
   "execution_count": 4,
   "id": "55ba8608",
   "metadata": {},
   "outputs": [],
   "source": [
    "import numpy as np\n",
    "import os\n",
    "import glob\n",
    "import numpy as np\n",
    "def read_velodyne_bin(bin_path):\n",
    "    \"\"\"\n",
    "    Đọc file .bin từ KITTI và trả về mảng (N, 4): x, y, z, reflectance\n",
    "    \"\"\"\n",
    "    return np.fromfile(bin_path, dtype=np.float32).reshape(-1, 4)\n"
   ]
  },
  {
   "cell_type": "code",
   "execution_count": 7,
   "id": "28d8c9a2",
   "metadata": {},
   "outputs": [],
   "source": [
    "def read_kitti_label(label_folder):\n",
    "    \"\"\"\n",
    "    Đọc file .txt nhãn từ KITTI object detection.\n",
    "    Trả về danh sách bounding box + class:\n",
    "    [class, x, y, z, h, w, l, ry]\n",
    "    \"\"\"\n",
    "    all_labels  = {}\n",
    "    for file in sorted(os.listdir(label_folder)):\n",
    "        if not file.endswith('.txt'):\n",
    "                    continue\n",
    "        file_id=os.path.splitext(file)[0]\n",
    "        label_path=os.path.join(label_folder, file)\n",
    "        boxes = []\n",
    "        with open(label_path, 'r') as f:\n",
    "            for line in f:\n",
    "                if line.strip() == '':\n",
    "                    continue\n",
    "                parts = line.strip().split(' ')\n",
    "                cls = parts[0]\n",
    "                if cls == 'DontCare':\n",
    "                    continue\n",
    "                # Extract 3D box info\n",
    "                h, w, l = map(float, parts[8:11])\n",
    "                x, y, z = map(float, parts[11:14])\n",
    "                ry = float(parts[14])\n",
    "                boxes.append({\n",
    "                    'class': cls,\n",
    "                    'center': [x, y, z],\n",
    "                    'size': [l, w, h],\n",
    "                    'rotation': ry\n",
    "                })\n",
    "        all_labels[file_id] = boxes\n",
    "    return all_labels\n"
   ]
  },
  {
   "cell_type": "code",
   "execution_count": 8,
   "id": "668abf96",
   "metadata": {},
   "outputs": [],
   "source": [
    "all_labels=read_kitti_label(r\"E:\\WorkSpace\\Python\\Point_cloud\\data\\archive\\training\\label_2_subset\" )"
   ]
  },
  {
   "cell_type": "code",
   "execution_count": 23,
   "id": "64a4db1c",
   "metadata": {},
   "outputs": [
    {
     "name": "stdout",
     "output_type": "stream",
     "text": [
      "[Open3D INFO] Window window_0 created.\n",
      "[Open3D INFO] ICE servers: [\"stun:stun.l.google.com:19302\", \"turn:user:password@34.69.27.100:3478\", \"turn:user:password@34.69.27.100:3478?transport=tcp\"]\n",
      "[Open3D INFO] Set WEBRTC_STUN_SERVER environment variable add a customized WebRTC STUN server.\n",
      "[Open3D INFO] WebRTC Jupyter handshake mode enabled.\n"
     ]
    },
    {
     "ename": "KeyboardInterrupt",
     "evalue": "",
     "output_type": "error",
     "traceback": [
      "\u001b[31m---------------------------------------------------------------------------\u001b[39m",
      "\u001b[31mKeyboardInterrupt\u001b[39m                         Traceback (most recent call last)",
      "\u001b[36mCell\u001b[39m\u001b[36m \u001b[39m\u001b[32mIn[23]\u001b[39m\u001b[32m, line 26\u001b[39m\n\u001b[32m     24\u001b[39m binFileName = \u001b[33mr\u001b[39m\u001b[33m\"\u001b[39m\u001b[33mE:\u001b[39m\u001b[33m\\\u001b[39m\u001b[33mWorkSpace\u001b[39m\u001b[33m\\\u001b[39m\u001b[33mPython\u001b[39m\u001b[33m\\\u001b[39m\u001b[33mPoint_cloud\u001b[39m\u001b[33m\\\u001b[39m\u001b[33mdata\u001b[39m\u001b[33m\\\u001b[39m\u001b[33marchive\u001b[39m\u001b[33m\\\u001b[39m\u001b[33mtraining\u001b[39m\u001b[33m\\\u001b[39m\u001b[33mvelodyne_subset\u001b[39m\u001b[33m\\\u001b[39m\u001b[33m000000.bin\u001b[39m\u001b[33m\"\u001b[39m\n\u001b[32m     25\u001b[39m pcd = bin_to_pcd(binFileName)\n\u001b[32m---> \u001b[39m\u001b[32m26\u001b[39m \u001b[43mo3d\u001b[49m\u001b[43m.\u001b[49m\u001b[43mvisualization\u001b[49m\u001b[43m.\u001b[49m\u001b[43mdraw\u001b[49m\u001b[43m(\u001b[49m\u001b[43m[\u001b[49m\u001b[43mpcd\u001b[49m\u001b[43m]\u001b[49m\u001b[43m)\u001b[49m\n\u001b[32m     27\u001b[39m \u001b[38;5;28mprint\u001b[39m(pcd)\n",
      "\u001b[36mFile \u001b[39m\u001b[32me:\\WorkSpace\\Python\\.venv\\Lib\\site-packages\\open3d\\visualization\\draw.py:230\u001b[39m, in \u001b[36mdraw\u001b[39m\u001b[34m(geometry, title, width, height, actions, lookat, eye, up, field_of_view, intrinsic_matrix, extrinsic_matrix, bg_color, bg_image, ibl, ibl_intensity, show_skybox, show_ui, raw_mode, point_size, line_width, animation_time_step, animation_duration, rpc_interface, on_init, on_animation_frame, on_animation_tick, non_blocking_and_return_uid)\u001b[39m\n\u001b[32m    228\u001b[39m     \u001b[38;5;28;01mreturn\u001b[39;00m w.uid\n\u001b[32m    229\u001b[39m \u001b[38;5;28;01melse\u001b[39;00m:\n\u001b[32m--> \u001b[39m\u001b[32m230\u001b[39m     \u001b[43mgui\u001b[49m\u001b[43m.\u001b[49m\u001b[43mApplication\u001b[49m\u001b[43m.\u001b[49m\u001b[43minstance\u001b[49m\u001b[43m.\u001b[49m\u001b[43mrun\u001b[49m\u001b[43m(\u001b[49m\u001b[43m)\u001b[49m\n",
      "\u001b[31mKeyboardInterrupt\u001b[39m: "
     ]
    }
   ],
   "source": [
    "import struct\n",
    "import numpy as np\n",
    "import open3d as o3d\n",
    "import sys\n",
    "\n",
    "\n",
    "def bin_to_pcd(binFileName):\n",
    "    size_float = 4\n",
    "    list_pcd = []\n",
    "    with open(binFileName, \"rb\") as f:\n",
    "        byte = f.read(size_float * 4)\n",
    "        while byte:\n",
    "            x, y, z, intensity = struct.unpack(\"ffff\", byte)\n",
    "            list_pcd.append([x, y, z])\n",
    "            byte = f.read(size_float * 4)\n",
    "    np_pcd = np.asarray(list_pcd)\n",
    "    pcd = o3d.geometry.PointCloud()\n",
    "    pcd.points = o3d.utility.Vector3dVector(np_pcd)\n",
    "    return pcd\n",
    "\n",
    "\n",
    "\n",
    "if __name__ == \"__main__\":\n",
    "    binFileName = r\"E:\\WorkSpace\\Python\\Point_cloud\\data\\archive\\training\\velodyne_subset\\000000.bin\"\n",
    "    pcd = bin_to_pcd(binFileName)\n",
    "    o3d.visualization.draw([pcd])\n",
    "    print(pcd)"
   ]
  },
  {
   "cell_type": "code",
   "execution_count": null,
   "id": "b93e807a",
   "metadata": {},
   "outputs": [],
   "source": [
    "\n",
    "\n",
    "# ==== Cắt point cloud theo bbox ====\n",
    "def extract_objects_from_pointcloud(points, bboxes, class_map):\n",
    "    objects = []\n",
    "    for box in bboxes:\n",
    "        cls = box['class']\n",
    "        if cls not in class_map:\n",
    "            continue\n",
    "        center, size = box['center'], box['size']\n",
    "        l, w, h = size\n",
    "        x, y, z = center\n",
    "\n",
    "        # Hộp trục song song (AABB)\n",
    "        mask = (\n",
    "            (points[:, 0] > x - l/2) & (points[:, 0] < x + l/2) &\n",
    "            (points[:, 1] > y - w/2) & (points[:, 1] < y + w/2) &\n",
    "            (points[:, 2] > z - h/2) & (points[:, 2] < z + h/2)\n",
    "        )\n",
    "        pc_object = points[mask][:, :3]\n",
    "        if len(pc_object) >= 30:\n",
    "            label_id = class_map[cls]\n",
    "            objects.append((pc_object, label_id))\n",
    "    return objects\n",
    "\n",
    "# ==== Hàm chính để duyệt cả folder ====\n",
    "def extract_all_objects(velodyne_dir, label_dir, class_map):\n",
    "    all_objects = []  # List chứa (pc_object, class_id)\n",
    "    bin_files = sorted(glob.glob(os.path.join(velodyne_dir, \"*.bin\")))\n",
    "\n",
    "    for bin_path in bin_files:\n",
    "        file_id = os.path.splitext(os.path.basename(bin_path))[0]  # '000012'\n",
    "\n",
    "        label_path = os.path.join(label_dir, f\"{file_id}.txt\")\n",
    "        if not os.path.exists(label_path):\n",
    "            print(f\"[!] Thiếu label cho {file_id}, bỏ qua\")\n",
    "            continue\n",
    "\n",
    "        # Đọc dữ liệu\n",
    "        points = read_velodyne_bin(bin_path)\n",
    "        bboxes = read_kitti_label(label_path)\n",
    "        objects = extract_objects_from_pointcloud(points, bboxes, class_map)\n",
    "\n",
    "        all_objects.extend(objects)\n",
    "    return all_objects"
   ]
  },
  {
   "cell_type": "code",
   "execution_count": 13,
   "id": "90202c2d",
   "metadata": {},
   "outputs": [
    {
     "name": "stdout",
     "output_type": "stream",
     "text": [
      "Tổng số object trích ra: 0\n"
     ]
    }
   ],
   "source": [
    "class_map = {\n",
    "    \"Car\": 0,\n",
    "    \"Pedestrian\": 1,\n",
    "    \"Cyclist\": 2\n",
    "}\n",
    "\n",
    "velodyne_dir = \"E:\\\\WorkSpace\\\\Python\\\\Point_cloud\\\\data\\\\archive\\\\training\\\\velodyne_subset\\\\\"\n",
    "label_dir = \"E:\\\\WorkSpace\\\\Python\\\\Point_cloud\\\\data\\\\archive\\\\training\\\\label_2_subset\\\\\" \n",
    "\n",
    "all_objs = extract_all_objects(velodyne_dir, label_dir, class_map)\n",
    "\n",
    "print(f\"Tổng số object trích ra: {len(all_objs)}\")\n",
    "# all_objs = [(pc1, label1), (pc2, label2), ...]"
   ]
  }
 ],
 "metadata": {
  "kernelspec": {
   "display_name": ".venv",
   "language": "python",
   "name": "python3"
  },
  "language_info": {
   "codemirror_mode": {
    "name": "ipython",
    "version": 3
   },
   "file_extension": ".py",
   "mimetype": "text/x-python",
   "name": "python",
   "nbconvert_exporter": "python",
   "pygments_lexer": "ipython3",
   "version": "3.12.9"
  }
 },
 "nbformat": 4,
 "nbformat_minor": 5
}
